{
 "cells": [
  {
   "cell_type": "markdown",
   "id": "2967e96e",
   "metadata": {},
   "source": [
    "# Cargo"
   ]
  },
  {
   "cell_type": "markdown",
   "id": "d6564977",
   "metadata": {},
   "source": [
    "verefica versão do cargo"
   ]
  },
  {
   "cell_type": "raw",
   "id": "6c3e689f",
   "metadata": {},
   "source": [
    "$ cargo --version"
   ]
  },
  {
   "cell_type": "markdown",
   "id": "7a1833d8",
   "metadata": {},
   "source": [
    "cria um projeto usando cargo no terminal"
   ]
  },
  {
   "cell_type": "raw",
   "id": "b8639d42",
   "metadata": {},
   "source": [
    "$ cargo new hello_cargo --bin\n",
    "$ cd hello_cargo"
   ]
  },
  {
   "cell_type": "markdown",
   "id": "afdf3013",
   "metadata": {},
   "source": [
    "No caso foi criado um projeto pelo cargo essas são as configurações dp Cargo.toml\n"
   ]
  },
  {
   "cell_type": "raw",
   "id": "076d9dd7",
   "metadata": {},
   "source": [
    "[package]\n",
    "name = \"hello_cargo\"\n",
    "version = \"0.1.0\"\n",
    "authors = [\"Your Name <you@example.com>\"]\n",
    "\n",
    "[dependencies]"
   ]
  },
  {
   "cell_type": "markdown",
   "id": "b7fdc7c3",
   "metadata": {},
   "source": [
    "esse é o arquivo main gerado pelo cargo"
   ]
  },
  {
   "cell_type": "code",
   "execution_count": 4,
   "id": "a9d7b68a",
   "metadata": {},
   "outputs": [],
   "source": [
    "fn main() {\n",
    "    println!(\"Hello, world!\");\n",
    "}\n"
   ]
  },
  {
   "cell_type": "markdown",
   "id": "dea689b1",
   "metadata": {},
   "source": [
    "construção do projeto pelo terminal"
   ]
  },
  {
   "cell_type": "code",
   "execution_count": null,
   "id": "8de5677b",
   "metadata": {},
   "outputs": [],
   "source": [
    "$ cargo build\n",
    "   Compiling hello_cargo v0.1.0 (file:///projects/hello_cargo)\n",
    "    Finished dev [unoptimized + debuginfo] target(s) in 2.85 secs"
   ]
  },
  {
   "cell_type": "markdown",
   "id": "32b76d00",
   "metadata": {},
   "source": [
    "execução do arquivo executavel"
   ]
  },
  {
   "cell_type": "raw",
   "id": "7223f2ac",
   "metadata": {},
   "source": [
    "$ ./target/debug/hello_cargo # or .\\target\\debug\\hello_cargo.exe on Windows\n",
    "Hello, world!"
   ]
  },
  {
   "cell_type": "markdown",
   "id": "26f1083a",
   "metadata": {},
   "source": [
    "cargo run executa e compila de uma vez só"
   ]
  },
  {
   "cell_type": "raw",
   "id": "a8825591",
   "metadata": {},
   "source": [
    "$ cargo run\n",
    "    Finished dev [unoptimized + debuginfo] target(s) in 0.0 secs\n",
    "     Running `target/debug/hello_cargo`\n",
    "Hello, world!"
   ]
  },
  {
   "cell_type": "markdown",
   "id": "586c6b82",
   "metadata": {},
   "source": [
    "caso haja alguma mudança no codigo-fonte ele montara e compilara novamente"
   ]
  },
  {
   "cell_type": "code",
   "execution_count": null,
   "id": "45fad4c9",
   "metadata": {},
   "outputs": [],
   "source": [
    "$ cargo run\n",
    "   Compiling hello_cargo v0.1.0 (file:///projects/hello_cargo)\n",
    "    Finished dev [unoptimized + debuginfo] target(s) in 0.33 secs\n",
    "     Running `target/debug/hello_cargo`\n",
    "Hello, world!"
   ]
  },
  {
   "cell_type": "markdown",
   "id": "1a0abb54",
   "metadata": {},
   "source": [
    "verifica o  codigo"
   ]
  },
  {
   "cell_type": "code",
   "execution_count": null,
   "id": "5a4415ed",
   "metadata": {},
   "outputs": [],
   "source": [
    "$ cargo check\n",
    "   Compiling hello_cargo v0.1.0 (file:///projects/hello_cargo)\n",
    "    Finished dev [unoptimized + debuginfo] target(s) in 0.32 secs"
   ]
  },
  {
   "cell_type": "markdown",
   "id": "41a50002",
   "metadata": {},
   "source": [
    "para verificar usando o git use a sequencia vaixo"
   ]
  },
  {
   "cell_type": "code",
   "execution_count": null,
   "id": "bb34451b",
   "metadata": {},
   "outputs": [],
   "source": [
    "$ git clone someurl.com/someproject\n",
    "$ cd someproject\n",
    "$ cargo build"
   ]
  }
 ],
 "metadata": {
  "kernelspec": {
   "display_name": "Rust",
   "language": "rust",
   "name": "rust"
  },
  "language_info": {
   "codemirror_mode": "rust",
   "file_extension": ".rs",
   "mimetype": "text/rust",
   "name": "Rust",
   "pygment_lexer": "rust",
   "version": ""
  }
 },
 "nbformat": 4,
 "nbformat_minor": 5
}
