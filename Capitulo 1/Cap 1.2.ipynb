{
 "cells": [
  {
   "cell_type": "markdown",
   "id": "ba5e6dac",
   "metadata": {},
   "source": [
    "# Capitulo 1:Olá Mundo"
   ]
  },
  {
   "cell_type": "markdown",
   "id": "50233947",
   "metadata": {},
   "source": [
    "Os comandos Abaixo são para criação de projeto via terminal para linux e MacOS"
   ]
  },
  {
   "cell_type": "raw",
   "id": "c52be00b",
   "metadata": {},
   "source": [
    "$ mkdir ~/projects\n",
    "$ cd ~/projects\n",
    "$ mkdir hello_world\n",
    "$ cd hello_world"
   ]
  },
  {
   "cell_type": "markdown",
   "id": "04ab985f",
   "metadata": {},
   "source": [
    "No Windows, digite o comando .\\main.exe em vez de ./main que foi usado no linux:"
   ]
  },
  {
   "cell_type": "raw",
   "id": "fc947f73",
   "metadata": {},
   "source": [
    "> rustc main.rs\n",
    "> .\\main.exe\n",
    "Hello, world!"
   ]
  },
  {
   "cell_type": "markdown",
   "id": "09a21dfd",
   "metadata": {},
   "source": [
    "exemplo mais basico e conhecido na area da computação o nosso hello world é realizado com a chamada de uma macro rust que veremos mais tarde ao inves de uma função, println! é o comando de saida de dados,! é a chamada da macro.\n",
    "\n",
    "dentro da função fn main() {\n",
    "\n",
    "} digite"
   ]
  },
  {
   "cell_type": "code",
   "execution_count": 6,
   "id": "c756e72b",
   "metadata": {},
   "outputs": [
    {
     "name": "stdout",
     "output_type": "stream",
     "text": [
      "Hello, world!\n"
     ]
    }
   ],
   "source": [
    "  println!(\"Hello, world!\");"
   ]
  },
  {
   "cell_type": "markdown",
   "id": "fcd923d8",
   "metadata": {},
   "source": [
    "para executar via terminal no linux e MacOS digite no terminal os comandos :"
   ]
  },
  {
   "cell_type": "raw",
   "id": "58b0a43e",
   "metadata": {},
   "source": [
    "$ rustc main.rs\n",
    "$ ./main\n",
    "Hello, world!"
   ]
  },
  {
   "cell_type": "markdown",
   "id": "06b2e145",
   "metadata": {},
   "source": [
    "No windows é aquele esquema que tinhamos falado acima de trocar o comando ./main pelo .\\main.exe:"
   ]
  },
  {
   "cell_type": "raw",
   "id": "27dfe1c3",
   "metadata": {},
   "source": [
    "> rustc main.rs\n",
    "> .\\main.exe\n",
    "Hello, world!"
   ]
  },
  {
   "cell_type": "markdown",
   "id": "e67eac19",
   "metadata": {},
   "source": [
    "agora iremos dividir em partes o programa para entender como funciona esse programa hello world em rust"
   ]
  },
  {
   "cell_type": "code",
   "execution_count": 7,
   "id": "100162a0",
   "metadata": {},
   "outputs": [],
   "source": [
    "fn main() {\n",
    "\n",
    "}"
   ]
  },
  {
   "cell_type": "markdown",
   "id": "2120ad6e",
   "metadata": {},
   "source": [
    "Acima temos nossa função main do programa como nas outras linguagens como c em que tem temos int main(){ } que é onde escrevemos o programa principal.\n",
    "Essa função não retorna parametros e não retorna nada.\n",
    "O programa principal fica dentro desses colchetes que são necessarios em qualquer função.\n"
   ]
  },
  {
   "cell_type": "code",
   "execution_count": 11,
   "id": "3b34430a",
   "metadata": {},
   "outputs": [
    {
     "name": "stdout",
     "output_type": "stream",
     "text": [
      "hello world!\n"
     ]
    }
   ],
   "source": [
    "println!(\"hello world!\");"
   ]
  },
  {
   "cell_type": "markdown",
   "id": "10cae193",
   "metadata": {},
   "source": [
    "essa linha imprime texto na tela e fica dentro da função main usamos println!(comando para saida de dados) para realizar a chamada da macro e depois passamos a string(palavra) hello world como parametro. \n",
    "Importante:println em Rust deve ser chamada seguido por um ! todas as vezes que for realizada ja como é uma chamada macro e não função."
   ]
  },
  {
   "cell_type": "markdown",
   "id": "db941c21",
   "metadata": {},
   "source": [
    "# Compilar e executar"
   ]
  },
  {
   "cell_type": "markdown",
   "id": "8c6f3d0f",
   "metadata": {},
   "source": [
    "antes de executar qualquer programa em rust ele deve ser compilado isso é feito com o comando abaixo no terminal que compila utilizando o comando rustc semelhante a chamada em C/C++ com o gcc ou clang para chasmar o compilador"
   ]
  },
  {
   "cell_type": "raw",
   "id": "c8353e00",
   "metadata": {},
   "source": [
    "$ rustc main.rs"
   ]
  },
  {
   "cell_type": "markdown",
   "id": "c9b48b71",
   "metadata": {},
   "source": [
    "para ver o executavel do programa  no Linux/MacOs(terminal) utilize os seguintes comandos:"
   ]
  },
  {
   "cell_type": "raw",
   "id": "643da3f4",
   "metadata": {},
   "source": [
    "$ ls\n",
    "main  main.rs"
   ]
  },
  {
   "cell_type": "markdown",
   "id": "fcb7cef1",
   "metadata": {},
   "source": [
    "Ja no windows(CMD/Powershell)"
   ]
  },
  {
   "cell_type": "raw",
   "id": "25169030",
   "metadata": {},
   "source": [
    "> dir /B %= the /B option says to only show the file names =%\n",
    "main.exe\n",
    "main.pdb\n",
    "main.rs"
   ]
  },
  {
   "cell_type": "markdown",
   "id": "e640d96f",
   "metadata": {},
   "source": [
    "para executar faça os comando abaixo"
   ]
  },
  {
   "cell_type": "raw",
   "id": "63ae5475",
   "metadata": {},
   "source": [
    "$ ./main # (linux/MacOs)or .\\main.exe (noWindows)"
   ]
  },
  {
   "cell_type": "code",
   "execution_count": null,
   "id": "9769c392",
   "metadata": {},
   "outputs": [],
   "source": [
    " "
   ]
  }
 ],
 "metadata": {
  "kernelspec": {
   "display_name": "Rust",
   "language": "rust",
   "name": "rust"
  },
  "language_info": {
   "codemirror_mode": "rust",
   "file_extension": ".rs",
   "mimetype": "text/rust",
   "name": "Rust",
   "pygment_lexer": "rust",
   "version": ""
  }
 },
 "nbformat": 4,
 "nbformat_minor": 5
}
