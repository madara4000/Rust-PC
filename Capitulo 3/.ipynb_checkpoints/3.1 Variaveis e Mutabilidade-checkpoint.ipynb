{
 "cells": [
  {
   "cell_type": "code",
   "execution_count": null,
   "id": "c6b79ddf",
   "metadata": {},
   "outputs": [],
   "source": []
  },
  {
   "cell_type": "code",
   "execution_count": 2,
   "id": "9471de6e",
   "metadata": {},
   "outputs": [
    {
     "ename": "Error",
     "evalue": "cannot assign twice to immutable variable `x`",
     "output_type": "error",
     "traceback": [
      "    let x = 5;",
      "\u001b[91m        ^\u001b[0m \u001b[94mfirst assignment to `x`\u001b[0m",
      "    x = 6;",
      "\u001b[91m    ^^^^^\u001b[0m \u001b[94mcannot assign twice to immutable variable\u001b[0m",
      "cannot assign twice to immutable variable `x`",
      "\u001b[1mhelp\u001b[0m: consider making this binding mutable\n\nmut x"
     ]
    }
   ],
   "source": [
    "\n",
    "    let x = 5;\n",
    "    println!(\"O valor de x é: {}\", x);\n",
    "    x = 6;\n",
    "    println!(\"O valor de x é: {}\", x);\n"
   ]
  }
 ],
 "metadata": {
  "kernelspec": {
   "display_name": "Rust",
   "language": "rust",
   "name": "rust"
  },
  "language_info": {
   "codemirror_mode": "rust",
   "file_extension": ".rs",
   "mimetype": "text/rust",
   "name": "Rust",
   "pygment_lexer": "rust",
   "version": ""
  }
 },
 "nbformat": 4,
 "nbformat_minor": 5
}
