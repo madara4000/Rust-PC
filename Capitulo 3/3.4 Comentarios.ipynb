{
 "cells": [
  {
   "cell_type": "markdown",
   "id": "3a53c1b6",
   "metadata": {},
   "source": [
    "exemplos de  uso de comentario em Rust"
   ]
  },
  {
   "cell_type": "code",
   "execution_count": 2,
   "id": "fe05541b",
   "metadata": {},
   "outputs": [],
   "source": [
    "// Olá, mundo."
   ]
  },
  {
   "cell_type": "code",
   "execution_count": 3,
   "id": "451b7f44",
   "metadata": {},
   "outputs": [],
   "source": [
    "// Então, estamos fazendo algo complicado aqui, tempo suficiente para que precisemos\n",
    "// várias linhas de comentários para fazer isso! Ufa! Espero que este comentário\n",
    "// explique o que está acontecendo."
   ]
  },
  {
   "cell_type": "code",
   "execution_count": 4,
   "id": "80e9e0d9",
   "metadata": {},
   "outputs": [],
   "source": [
    "let numero_da_sorte = 7; // Estou com sorte hoje."
   ]
  },
  {
   "cell_type": "code",
   "execution_count": 5,
   "id": "882648c5",
   "metadata": {},
   "outputs": [],
   "source": [
    "// Estou com sorte hoje.\n",
    "    let numero_da_sorte = 7;"
   ]
  },
  {
   "cell_type": "code",
   "execution_count": null,
   "id": "28d9c82f",
   "metadata": {},
   "outputs": [],
   "source": []
  }
 ],
 "metadata": {
  "kernelspec": {
   "display_name": "Rust",
   "language": "rust",
   "name": "rust"
  },
  "language_info": {
   "codemirror_mode": "rust",
   "file_extension": ".rs",
   "mimetype": "text/rust",
   "name": "Rust",
   "pygment_lexer": "rust",
   "version": ""
  }
 },
 "nbformat": 4,
 "nbformat_minor": 5
}
