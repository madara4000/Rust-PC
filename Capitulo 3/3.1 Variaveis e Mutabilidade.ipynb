{
 "cells": [
  {
   "cell_type": "markdown",
   "id": "48a67dc4",
   "metadata": {},
   "source": [
    "esse codgo não compila e da o erro abaixo pois x é imutavel e foi atribuido valor a ele mais de uma vez"
   ]
  },
  {
   "cell_type": "code",
   "execution_count": 2,
   "id": "db5eb21e",
   "metadata": {},
   "outputs": [
    {
     "ename": "Error",
     "evalue": "cannot assign twice to immutable variable `x`",
     "output_type": "error",
     "traceback": [
      "    let x = 5;",
      "\u001b[91m        ^\u001b[0m \u001b[94mfirst assignment to `x`\u001b[0m",
      "    x = 6;",
      "\u001b[91m    ^^^^^\u001b[0m \u001b[94mcannot assign twice to immutable variable\u001b[0m",
      "cannot assign twice to immutable variable `x`",
      "\u001b[1mhelp\u001b[0m: consider making this binding mutable\n\nmut x"
     ]
    }
   ],
   "source": [
    "\n",
    "    let x = 5;\n",
    "    println!(\"O valor de x é: {}\", x);\n",
    "    x = 6;\n",
    "    println!(\"O valor de x é: {}\", x);\n"
   ]
  },
  {
   "cell_type": "markdown",
   "id": "6d8e8aa9",
   "metadata": {},
   "source": [
    "mudando let x para let mut x corrigimos o erro"
   ]
  },
  {
   "cell_type": "code",
   "execution_count": 3,
   "id": "6586a550",
   "metadata": {},
   "outputs": [
    {
     "name": "stdout",
     "output_type": "stream",
     "text": [
      "O valor de x é: 5\n",
      "O valor de x é: 6\n"
     ]
    }
   ],
   "source": [
    "let mut x = 5;\n",
    "    println!(\"O valor de x é: {}\", x);\n",
    "    x = 6;\n",
    "    println!(\"O valor de x é: {}\", x);"
   ]
  },
  {
   "cell_type": "markdown",
   "id": "545a4ced",
   "metadata": {},
   "source": [
    "se compilarmos com cargo receberemos a seguinte mensagem"
   ]
  },
  {
   "cell_type": "raw",
   "id": "3b5da10c",
   "metadata": {},
   "source": [
    " cargo run\n",
    "   Compiling variaveis v0.1.0 (file:///projects/variaveis)\n",
    "    Finished dev [unoptimized + debuginfo] target(s) in 0.30 secs\n",
    "     Running `target/debug/variaveis`\n",
    "O valor de x é: 5\n",
    "O valor de x é: 6"
   ]
  },
  {
   "cell_type": "markdown",
   "id": "7b79bda4",
   "metadata": {},
   "source": [
    "declaração de uma constante em rust,são validas durante toda a execução do programa"
   ]
  },
  {
   "cell_type": "code",
   "execution_count": 6,
   "id": "bf02c6d0",
   "metadata": {},
   "outputs": [],
   "source": [
    "const PONTOS_MAXIMOS: u32 = 100_000;"
   ]
  },
  {
   "cell_type": "code",
   "execution_count": 2,
   "id": "41e6fc06",
   "metadata": {},
   "outputs": [
    {
     "name": "stdout",
     "output_type": "stream",
     "text": [
      "O valor de x é: 12\n"
     ]
    }
   ],
   "source": [
    "\n",
    "    let x = 5;\n",
    "\n",
    "    let x = x + 1;\n",
    "\n",
    "    let x = x * 2;\n",
    "\n",
    "    println!(\"O valor de x é: {}\", x);\n"
   ]
  },
  {
   "cell_type": "markdown",
   "id": "b53c1924",
   "metadata": {},
   "source": [
    "o interessante aqui é que podemos declarar uma variavel x mais de uma vez e a nova declaração sombreia a anterior"
   ]
  },
  {
   "cell_type": "code",
   "execution_count": 3,
   "id": "6121e06f",
   "metadata": {},
   "outputs": [],
   "source": [
    "let espacos = \"   \";\n",
    "let espacos = espacos.len();"
   ]
  },
  {
   "cell_type": "markdown",
   "id": "e7302372",
   "metadata": {},
   "source": [
    "nos podemos reatribuir essa variavel desde que a gente declare novamente ,como podemos ver abaixo não compila pois não pode mudar o tipo da variavel então só declarando novamente "
   ]
  },
  {
   "cell_type": "code",
   "execution_count": 5,
   "id": "5c4deae4",
   "metadata": {},
   "outputs": [
    {
     "ename": "Error",
     "evalue": "mismatched types",
     "output_type": "error",
     "traceback": [
      "\u001b[31m[E0308] Error:\u001b[0m mismatched types",
      "   \u001b[38;5;246m╭\u001b[0m\u001b[38;5;246m─\u001b[0m\u001b[38;5;246m[\u001b[0mcommand_5:1:1\u001b[38;5;246m]\u001b[0m",
      "   \u001b[38;5;246m│\u001b[0m",
      " \u001b[38;5;246m1 │\u001b[0m \u001b[38;5;249ml\u001b[0m\u001b[38;5;249me\u001b[0m\u001b[38;5;249mt\u001b[0m\u001b[38;5;249m \u001b[0m\u001b[38;5;249mm\u001b[0m\u001b[38;5;249mu\u001b[0m\u001b[38;5;249mt\u001b[0m\u001b[38;5;249m \u001b[0m\u001b[38;5;249me\u001b[0m\u001b[38;5;249ms\u001b[0m\u001b[38;5;249mp\u001b[0m\u001b[38;5;249ma\u001b[0m\u001b[38;5;249mc\u001b[0m\u001b[38;5;249mo\u001b[0m\u001b[38;5;249ms\u001b[0m\u001b[38;5;249m \u001b[0m\u001b[38;5;249m=\u001b[0m\u001b[38;5;249m \u001b[0m\u001b[38;5;100m\"\u001b[0m\u001b[38;5;100m \u001b[0m\u001b[38;5;100m \u001b[0m\u001b[38;5;100m \u001b[0m\u001b[38;5;100m\"\u001b[0m\u001b[38;5;249m;\u001b[0m",
      " \u001b[38;5;246m  ·\u001b[0m                   \u001b[38;5;100m─\u001b[0m\u001b[38;5;100m─\u001b[0m\u001b[38;5;100m┬\u001b[0m\u001b[38;5;100m─\u001b[0m\u001b[38;5;100m─\u001b[0m  ",
      " \u001b[38;5;246m  ·\u001b[0m                     \u001b[38;5;100m╰\u001b[0m\u001b[38;5;100m─\u001b[0m\u001b[38;5;100m─\u001b[0m\u001b[38;5;100m─\u001b[0m\u001b[38;5;100m─\u001b[0m expected due to this value",
      " \u001b[38;5;246m2 │\u001b[0m \u001b[38;5;249me\u001b[0m\u001b[38;5;249ms\u001b[0m\u001b[38;5;249mp\u001b[0m\u001b[38;5;249ma\u001b[0m\u001b[38;5;249mc\u001b[0m\u001b[38;5;249mo\u001b[0m\u001b[38;5;249ms\u001b[0m\u001b[38;5;249m \u001b[0m\u001b[38;5;249m=\u001b[0m\u001b[38;5;249m \u001b[0m\u001b[38;5;54me\u001b[0m\u001b[38;5;54ms\u001b[0m\u001b[38;5;54mp\u001b[0m\u001b[38;5;54ma\u001b[0m\u001b[38;5;54mc\u001b[0m\u001b[38;5;54mo\u001b[0m\u001b[38;5;54ms\u001b[0m\u001b[38;5;68m.\u001b[0m\u001b[38;5;68ml\u001b[0m\u001b[38;5;68me\u001b[0m\u001b[38;5;68mn\u001b[0m\u001b[38;5;68m(\u001b[0m\u001b[38;5;68m)\u001b[0m\u001b[38;5;249m;\u001b[0m",
      " \u001b[38;5;246m  ·\u001b[0m           \u001b[38;5;54m─\u001b[0m\u001b[38;5;54m─\u001b[0m\u001b[38;5;54m─\u001b[0m\u001b[38;5;54m─\u001b[0m\u001b[38;5;54m─\u001b[0m\u001b[38;5;54m─\u001b[0m\u001b[38;5;54m┬\u001b[0m\u001b[38;5;68m─\u001b[0m\u001b[38;5;68m─\u001b[0m\u001b[38;5;68m─\u001b[0m\u001b[38;5;68m┬\u001b[0m\u001b[38;5;68m─\u001b[0m\u001b[38;5;68m─\u001b[0m  ",
      " \u001b[38;5;246m  ·\u001b[0m                 \u001b[38;5;54m╰\u001b[0m\u001b[38;5;54m─\u001b[0m\u001b[38;5;54m─\u001b[0m\u001b[38;5;54m─\u001b[0m\u001b[38;5;54m─\u001b[0m\u001b[38;5;54m─\u001b[0m\u001b[38;5;54m─\u001b[0m\u001b[38;5;54m─\u001b[0m\u001b[38;5;54m─\u001b[0m expected `&str`, found `usize`",
      " \u001b[38;5;246m  ·\u001b[0m                     \u001b[38;5;68m│\u001b[0m    ",
      " \u001b[38;5;246m  ·\u001b[0m                     \u001b[38;5;68m╰\u001b[0m\u001b[38;5;68m─\u001b[0m\u001b[38;5;68m─\u001b[0m\u001b[38;5;68m─\u001b[0m\u001b[38;5;68m─\u001b[0m help: try removing the method call: ``",
      "\u001b[38;5;246m───╯\u001b[0m"
     ]
    }
   ],
   "source": [
    "let mut espacos = \"   \";\n",
    "espacos = espacos.len();"
   ]
  },
  {
   "cell_type": "code",
   "execution_count": null,
   "id": "a2400dc8",
   "metadata": {},
   "outputs": [],
   "source": []
  }
 ],
 "metadata": {
  "kernelspec": {
   "display_name": "Rust",
   "language": "rust",
   "name": "rust"
  },
  "language_info": {
   "codemirror_mode": "rust",
   "file_extension": ".rs",
   "mimetype": "text/rust",
   "name": "Rust",
   "pygment_lexer": "rust",
   "version": ""
  }
 },
 "nbformat": 4,
 "nbformat_minor": 5
}
