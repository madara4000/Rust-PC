{
 "cells": [
  {
   "cell_type": "markdown",
   "id": "21ac378e",
   "metadata": {},
   "source": [
    "exemplo de função em Rust : é usada pela notação fn "
   ]
  },
  {
   "cell_type": "code",
   "execution_count": 4,
   "id": "9391c1b6",
   "metadata": {},
   "outputs": [
    {
     "name": "stdout",
     "output_type": "stream",
     "text": [
      "Olá, mundo!\n",
      "Outra função.\n"
     ]
    }
   ],
   "source": [
    " println!(\"Olá, mundo!\");\n",
    "\n",
    "    outra_funcao();\n",
    "fn outra_funcao() {\n",
    "    println!(\"Outra função.\");\n",
    "}"
   ]
  },
  {
   "cell_type": "markdown",
   "id": "8191fbe5",
   "metadata": {},
   "source": [
    "chamando cargorun no prompt  aparecera o resultado abaixo as linhas serão impressas na ordem que foram chamadas no main"
   ]
  },
  {
   "cell_type": "raw",
   "id": "d96e3744",
   "metadata": {},
   "source": [
    "$ cargo run\n",
    "   Compiling funcoes v0.1.0 (file:///projects/funcoes)\n",
    "    Finished dev [unoptimized + debuginfo] target(s) in 0.28 secs\n",
    "     Running `target/debug/funcoes`\n",
    "Olá, mundo!\n",
    "Outra função."
   ]
  },
  {
   "cell_type": "markdown",
   "id": "4e304727",
   "metadata": {},
   "source": [
    "sobre os parametros de uma função no rust"
   ]
  },
  {
   "cell_type": "code",
   "execution_count": 6,
   "id": "ce880f9c",
   "metadata": {},
   "outputs": [
    {
     "name": "stdout",
     "output_type": "stream",
     "text": [
      "O valor de x é: 5\n"
     ]
    }
   ],
   "source": [
    "    outra_funcao(5);\n",
    "\n",
    "fn outra_funcao(x: i32) {\n",
    "    println!(\"O valor de x é: {}\", x);\n",
    "}"
   ]
  },
  {
   "cell_type": "markdown",
   "id": "a5f04e34",
   "metadata": {},
   "source": [
    "deve declarar o tipo do parametro nos parametros da função"
   ]
  },
  {
   "cell_type": "markdown",
   "id": "10ed2fb2",
   "metadata": {},
   "source": [
    "exemplo do que acontece se der cargo run no arquivo"
   ]
  },
  {
   "cell_type": "raw",
   "id": "27330e56",
   "metadata": {},
   "source": [
    "$ cargo run\n",
    "   Compiling funcoes v0.1.0 (file:///projects/funcoes)\n",
    "    Finished dev [unoptimized + debuginfo] target(s) in 0.31 secs\n",
    "     Running `target/debug/funcoes`\n",
    "O valor de x é: 5\n",
    "O valor de y é: 6"
   ]
  },
  {
   "cell_type": "markdown",
   "id": "23ab6e97",
   "metadata": {},
   "source": [
    "exemplo de declasração de variavel"
   ]
  },
  {
   "cell_type": "code",
   "execution_count": 8,
   "id": "bca824b0",
   "metadata": {},
   "outputs": [],
   "source": [
    " let y = 6;"
   ]
  },
  {
   "cell_type": "markdown",
   "id": "9a73e47a",
   "metadata": {},
   "source": [
    "exemplo de erro de declaração onde temos duas declarações que não retornam valor"
   ]
  },
  {
   "cell_type": "code",
   "execution_count": 10,
   "id": "f8b9c3d8",
   "metadata": {},
   "outputs": [
    {
     "ename": "Error",
     "evalue": "expected expression, found `let` statement",
     "output_type": "error",
     "traceback": [
      "\u001b[31mError:\u001b[0m expected expression, found `let` statement",
      "   \u001b[38;5;246m╭\u001b[0m\u001b[38;5;246m─\u001b[0m\u001b[38;5;246m[\u001b[0mcommand_10:1:1\u001b[38;5;246m]\u001b[0m",
      "   \u001b[38;5;246m│\u001b[0m",
      " \u001b[38;5;246m1 │\u001b[0m \u001b[38;5;249m \u001b[0m\u001b[38;5;249ml\u001b[0m\u001b[38;5;249me\u001b[0m\u001b[38;5;249mt\u001b[0m\u001b[38;5;249m \u001b[0m\u001b[38;5;249mx\u001b[0m\u001b[38;5;249m \u001b[0m\u001b[38;5;249m=\u001b[0m\u001b[38;5;249m \u001b[0m\u001b[38;5;249m(\u001b[0m\u001b[38;5;54ml\u001b[0m\u001b[38;5;54me\u001b[0m\u001b[38;5;54mt\u001b[0m\u001b[38;5;249m \u001b[0m\u001b[38;5;249my\u001b[0m\u001b[38;5;249m \u001b[0m\u001b[38;5;249m=\u001b[0m\u001b[38;5;249m \u001b[0m\u001b[38;5;249m6\u001b[0m\u001b[38;5;249m)\u001b[0m",
      " \u001b[38;5;246m  ·\u001b[0m           \u001b[38;5;54m─\u001b[0m\u001b[38;5;54m┬\u001b[0m\u001b[38;5;54m─\u001b[0m  ",
      " \u001b[38;5;246m  ·\u001b[0m            \u001b[38;5;54m╰\u001b[0m\u001b[38;5;54m─\u001b[0m\u001b[38;5;54m─\u001b[0m\u001b[38;5;54m─\u001b[0m error: expected expression, found `let` statement",
      "\u001b[38;5;246m───╯\u001b[0m"
     ]
    },
    {
     "ename": "Error",
     "evalue": "expected `;`, found <end of input>",
     "output_type": "error",
     "traceback": [
      "\u001b[31mError:\u001b[0m expected `;`, found <end of input>",
      "   \u001b[38;5;246m╭\u001b[0m\u001b[38;5;246m─\u001b[0m\u001b[38;5;246m[\u001b[0mcommand_10:1:1\u001b[38;5;246m]\u001b[0m",
      "   \u001b[38;5;246m│\u001b[0m",
      " \u001b[38;5;246m1 │\u001b[0m \u001b[38;5;249m \u001b[0m\u001b[38;5;249ml\u001b[0m\u001b[38;5;249me\u001b[0m\u001b[38;5;249mt\u001b[0m\u001b[38;5;249m \u001b[0m\u001b[38;5;249mx\u001b[0m\u001b[38;5;249m \u001b[0m\u001b[38;5;249m=\u001b[0m\u001b[38;5;249m \u001b[0m\u001b[38;5;249m(\u001b[0m\u001b[38;5;249ml\u001b[0m\u001b[38;5;249me\u001b[0m\u001b[38;5;249mt\u001b[0m\u001b[38;5;249m \u001b[0m\u001b[38;5;249my\u001b[0m\u001b[38;5;249m \u001b[0m\u001b[38;5;249m=\u001b[0m\u001b[38;5;249m \u001b[0m\u001b[38;5;249m6\u001b[0m\u001b[38;5;249m)\u001b[0m",
      " \u001b[38;5;246m  ·\u001b[0m                     \u001b[38;5;54m│\u001b[0m ",
      " \u001b[38;5;246m  ·\u001b[0m                     \u001b[38;5;54m╰\u001b[0m\u001b[38;5;54m─\u001b[0m error: expected `;`, found `evcxr_variable_store`",
      " \u001b[38;5;246m  ·\u001b[0m                     \u001b[38;5;100m│\u001b[0m ",
      " \u001b[38;5;246m  ·\u001b[0m                     \u001b[38;5;100m╰\u001b[0m\u001b[38;5;100m─\u001b[0m help: add `;` here: `;`",
      "\u001b[38;5;246m───╯\u001b[0m"
     ]
    },
    {
     "ename": "Error",
     "evalue": "expected expression, found statement (`let`)",
     "output_type": "error",
     "traceback": [
      "\u001b[31mError:\u001b[0m expected expression, found statement (`let`)",
      "   \u001b[38;5;246m╭\u001b[0m\u001b[38;5;246m─\u001b[0m\u001b[38;5;246m[\u001b[0mcommand_10:1:1\u001b[38;5;246m]\u001b[0m",
      "   \u001b[38;5;246m│\u001b[0m",
      " \u001b[38;5;246m1 │\u001b[0m \u001b[38;5;249m \u001b[0m\u001b[38;5;249ml\u001b[0m\u001b[38;5;249me\u001b[0m\u001b[38;5;249mt\u001b[0m\u001b[38;5;249m \u001b[0m\u001b[38;5;249mx\u001b[0m\u001b[38;5;249m \u001b[0m\u001b[38;5;249m=\u001b[0m\u001b[38;5;249m \u001b[0m\u001b[38;5;249m(\u001b[0m\u001b[38;5;54ml\u001b[0m\u001b[38;5;54me\u001b[0m\u001b[38;5;54mt\u001b[0m\u001b[38;5;54m \u001b[0m\u001b[38;5;54my\u001b[0m\u001b[38;5;54m \u001b[0m\u001b[38;5;54m=\u001b[0m\u001b[38;5;54m \u001b[0m\u001b[38;5;54m6\u001b[0m\u001b[38;5;249m)\u001b[0m",
      " \u001b[38;5;246m  ·\u001b[0m           \u001b[38;5;54m─\u001b[0m\u001b[38;5;54m─\u001b[0m\u001b[38;5;54m─\u001b[0m\u001b[38;5;54m─\u001b[0m\u001b[38;5;54m┬\u001b[0m\u001b[38;5;54m─\u001b[0m\u001b[38;5;54m─\u001b[0m\u001b[38;5;54m─\u001b[0m\u001b[38;5;54m─\u001b[0m  ",
      " \u001b[38;5;246m  ·\u001b[0m               \u001b[38;5;54m╰\u001b[0m\u001b[38;5;54m─\u001b[0m\u001b[38;5;54m─\u001b[0m\u001b[38;5;54m─\u001b[0m\u001b[38;5;54m─\u001b[0m\u001b[38;5;54m─\u001b[0m\u001b[38;5;54m─\u001b[0m error: expected expression, found statement (`let`)",
      "\u001b[38;5;246m───╯\u001b[0m"
     ]
    },
    {
     "ename": "Error",
     "evalue": "`let` expressions in this position are unstable",
     "output_type": "error",
     "traceback": [
      "\u001b[31m[E0658] Error:\u001b[0m `let` expressions in this position are unstable",
      "   \u001b[38;5;246m╭\u001b[0m\u001b[38;5;246m─\u001b[0m\u001b[38;5;246m[\u001b[0mcommand_10:1:1\u001b[38;5;246m]\u001b[0m",
      "   \u001b[38;5;246m│\u001b[0m",
      " \u001b[38;5;246m1 │\u001b[0m \u001b[38;5;249m \u001b[0m\u001b[38;5;249ml\u001b[0m\u001b[38;5;249me\u001b[0m\u001b[38;5;249mt\u001b[0m\u001b[38;5;249m \u001b[0m\u001b[38;5;249mx\u001b[0m\u001b[38;5;249m \u001b[0m\u001b[38;5;249m=\u001b[0m\u001b[38;5;249m \u001b[0m\u001b[38;5;249m(\u001b[0m\u001b[38;5;54ml\u001b[0m\u001b[38;5;54me\u001b[0m\u001b[38;5;54mt\u001b[0m\u001b[38;5;54m \u001b[0m\u001b[38;5;54my\u001b[0m\u001b[38;5;54m \u001b[0m\u001b[38;5;54m=\u001b[0m\u001b[38;5;54m \u001b[0m\u001b[38;5;54m6\u001b[0m\u001b[38;5;249m)\u001b[0m",
      " \u001b[38;5;246m  ·\u001b[0m           \u001b[38;5;54m─\u001b[0m\u001b[38;5;54m─\u001b[0m\u001b[38;5;54m─\u001b[0m\u001b[38;5;54m─\u001b[0m\u001b[38;5;54m┬\u001b[0m\u001b[38;5;54m─\u001b[0m\u001b[38;5;54m─\u001b[0m\u001b[38;5;54m─\u001b[0m\u001b[38;5;54m─\u001b[0m  ",
      " \u001b[38;5;246m  ·\u001b[0m               \u001b[38;5;54m╰\u001b[0m\u001b[38;5;54m─\u001b[0m\u001b[38;5;54m─\u001b[0m\u001b[38;5;54m─\u001b[0m\u001b[38;5;54m─\u001b[0m\u001b[38;5;54m─\u001b[0m\u001b[38;5;54m─\u001b[0m error: `let` expressions in this position are unstable",
      "\u001b[38;5;246m───╯\u001b[0m"
     ]
    },
    {
     "ename": "Error",
     "evalue": "unnecessary parentheses around assigned value",
     "output_type": "error",
     "traceback": [
      "\u001b[31m[unused_parens] Error:\u001b[0m unnecessary parentheses around assigned value"
     ]
    }
   ],
   "source": [
    " let x = (let y = 6);"
   ]
  },
  {
   "cell_type": "markdown",
   "id": "9cbd92ae",
   "metadata": {},
   "source": [
    "aqui temos uma declaração e expressão, expressão nãoi leva ;"
   ]
  },
  {
   "cell_type": "code",
   "execution_count": 12,
   "id": "c0a05a18",
   "metadata": {},
   "outputs": [
    {
     "name": "stdout",
     "output_type": "stream",
     "text": [
      "O valor de y é: 4\n"
     ]
    }
   ],
   "source": [
    " let x = 5;\n",
    "\n",
    "    let y = {\n",
    "        let x = 3;\n",
    "        x + 1\n",
    "    };\n",
    "\n",
    "    println!(\"O valor de y é: {}\", y);"
   ]
  },
  {
   "cell_type": "code",
   "execution_count": 11,
   "id": "5cebdfa2",
   "metadata": {},
   "outputs": [
    {
     "data": {
      "text/plain": [
       "4"
      ]
     },
     "execution_count": 11,
     "metadata": {},
     "output_type": "execute_result"
    }
   ],
   "source": [
    "let x = 3;\n",
    "    x + 1"
   ]
  },
  {
   "cell_type": "markdown",
   "id": "cf489c9e",
   "metadata": {},
   "source": [
    "exemplo de função"
   ]
  },
  {
   "cell_type": "code",
   "execution_count": 14,
   "id": "7bbe1b66",
   "metadata": {},
   "outputs": [
    {
     "name": "stdout",
     "output_type": "stream",
     "text": [
      "O valor de x é: 5\n"
     ]
    }
   ],
   "source": [
    " let x = cinco();\n",
    "\n",
    "    println!(\"O valor de x é: {}\", x);\n",
    "fn cinco() -> i32 {\n",
    "    5\n",
    "}"
   ]
  },
  {
   "cell_type": "raw",
   "id": "8e72df18",
   "metadata": {},
   "source": [
    "$ cargo run\n",
    "   Compiling funcoes v0.1.0 (file:///projects/funcoes)\n",
    "    Finished dev [unoptimized + debuginfo] target(s) in 0.30 secs\n",
    "     Running `target/debug/funcoes`\n",
    "O valor de x é: 5"
   ]
  },
  {
   "cell_type": "markdown",
   "id": "69920550",
   "metadata": {},
   "source": [
    "exemplo do equivalente a função"
   ]
  },
  {
   "cell_type": "code",
   "execution_count": 15,
   "id": "82bf05b7",
   "metadata": {},
   "outputs": [],
   "source": [
    "let x = 5;"
   ]
  },
  {
   "cell_type": "markdown",
   "id": "407612ec",
   "metadata": {},
   "source": [
    "se adicionarmos ; nesse codigo  no x+1 teremos um erro como podemos ver no exemplo abaixo desse codigo"
   ]
  },
  {
   "cell_type": "code",
   "execution_count": 16,
   "id": "15988466",
   "metadata": {},
   "outputs": [
    {
     "name": "stdout",
     "output_type": "stream",
     "text": [
      "O valor de x é: 6\n"
     ]
    }
   ],
   "source": [
    "   let x = soma_um(5);\n",
    "\n",
    "    println!(\"O valor de x é: {}\", x);\n",
    "fn soma_um(x: i32) -> i32 {\n",
    "    x + 1\n",
    "}"
   ]
  },
  {
   "cell_type": "code",
   "execution_count": 17,
   "id": "5b8ece03",
   "metadata": {},
   "outputs": [
    {
     "ename": "Error",
     "evalue": "mismatched types",
     "output_type": "error",
     "traceback": [
      "fn soma_um(x: i32) -> i32 {",
      "\u001b[91m                      ^^^\u001b[0m \u001b[94mexpected `i32`, found `()`\u001b[0m",
      "fn soma_um(x: i32) -> i32 {",
      "\u001b[91m   ^^^^^^^\u001b[0m \u001b[94mimplicitly returns `()` as its body has no tail or `return` expression\u001b[0m",
      "mismatched types",
      "\u001b[1mhelp\u001b[0m: remove this semicolon to return this value\n\n"
     ]
    }
   ],
   "source": [
    "fn main() {\n",
    "    let x = soma_um(5);\n",
    "\n",
    "    println!(\"O valor de x é: {}\", x);\n",
    "}\n",
    "\n",
    "fn soma_um(x: i32) -> i32 {\n",
    "    x + 1;\n",
    "}"
   ]
  },
  {
   "cell_type": "code",
   "execution_count": null,
   "id": "dd4a07b2",
   "metadata": {},
   "outputs": [],
   "source": []
  }
 ],
 "metadata": {
  "kernelspec": {
   "display_name": "Rust",
   "language": "rust",
   "name": "rust"
  },
  "language_info": {
   "codemirror_mode": "rust",
   "file_extension": ".rs",
   "mimetype": "text/rust",
   "name": "Rust",
   "pygment_lexer": "rust",
   "version": ""
  }
 },
 "nbformat": 4,
 "nbformat_minor": 5
}
