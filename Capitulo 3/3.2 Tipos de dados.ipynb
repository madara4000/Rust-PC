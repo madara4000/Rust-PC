{
 "cells": [
  {
   "cell_type": "markdown",
   "id": "226db6c8",
   "metadata": {},
   "source": [
    "O Rust é uma linguaguem de tipagem estatica oque significa que deve conhecer todos os tipos das variaveis antes do tempo de compilação "
   ]
  },
  {
   "cell_type": "code",
   "execution_count": 3,
   "id": "1ab06a7d",
   "metadata": {},
   "outputs": [],
   "source": [
    "let guess: u32 = \"42\".parse().expect(\"Não é um número!\");"
   ]
  },
  {
   "cell_type": "markdown",
   "id": "0d178090",
   "metadata": {},
   "source": [
    "se não adicionarmos uma anotação de tipo acontecera o erro abaixo"
   ]
  },
  {
   "cell_type": "code",
   "execution_count": 4,
   "id": "8e3637c3",
   "metadata": {},
   "outputs": [
    {
     "ename": "Error",
     "evalue": "Couldn't automatically determine type of variable `guess`.\nPlease give it an explicit type.",
     "output_type": "error",
     "traceback": [
      "Couldn't automatically determine type of variable `guess`.\nPlease give it an explicit type."
     ]
    }
   ],
   "source": [
    "let guess = \"42\".parse().expect(\"Não é um número!\");"
   ]
  },
  {
   "cell_type": "markdown",
   "id": "b7659499",
   "metadata": {},
   "source": [
    "Tipos inteiros no Rust"
   ]
  },
  {
   "cell_type": "markdown",
   "id": "f80f51bd",
   "metadata": {},
   "source": [
    " | Tamanho| Signed | Unsigned |\n",
    "|----------|----------|----------|\n",
    "| 8-bit    | i8   | u8  |\n",
    "| 16-bit   | i16  | u16   |\n",
    "| 32-bit   |    i32  | u32  |          \n",
    "| 64-bit   |    i64 | u64  |   \n",
    "| arch |    isize | usize |  \n"
   ]
  },
  {
   "cell_type": "markdown",
   "id": "7514c884",
   "metadata": {},
   "source": [
    "Inteiros Literais no Rust"
   ]
  },
  {
   "cell_type": "markdown",
   "id": "d797cd6a",
   "metadata": {},
   "source": [
    " |Números literais|    exemplo |\n",
    " |----------|----------|\n",
    "|Decimal|98_222|\n",
    "|Hexaecimal|0xff|\n",
    "|Octal|0off|\n",
    "|Binário|0b1111_0000\n",
    "|Byte(u8 apenas) |b 'A'|"
   ]
  },
  {
   "cell_type": "markdown",
   "id": "f0a1b097",
   "metadata": {},
   "source": [
    "Os pontos flutuantes em Rust tem como padrão o f64 que é com 64 bits abaixo podemos ver a declaração de um tipo flutuante tanto em 32 como 64 bit"
   ]
  },
  {
   "cell_type": "code",
   "execution_count": 6,
   "id": "1b32bba6",
   "metadata": {},
   "outputs": [],
   "source": [
    "let x = 2.0; // f64\n",
    "\n",
    "    let y: f32 = 3.0; // f32"
   ]
  },
  {
   "cell_type": "markdown",
   "id": "f2b14fbc",
   "metadata": {},
   "source": [
    "Exemplo de operações matemáticas"
   ]
  },
  {
   "cell_type": "code",
   "execution_count": 7,
   "id": "54fe7666",
   "metadata": {},
   "outputs": [],
   "source": [
    " // adição\n",
    "    let soma = 5 + 10;\n",
    "\n",
    "    // subtração\n",
    "    let diferenca = 95.5 - 4.3;\n",
    "\n",
    "    // multiplicação\n",
    "    let produto = 4 * 30;\n",
    "\n",
    "    // divisão\n",
    "    let quociente = 56.7 / 32.2;\n",
    "\n",
    "    // resto\n",
    "    let resto = 43 % 5;"
   ]
  },
  {
   "cell_type": "markdown",
   "id": "33a66a6d",
   "metadata": {},
   "source": [
    "tipo booleano em Rust"
   ]
  },
  {
   "cell_type": "code",
   "execution_count": 8,
   "id": "d8663d9c",
   "metadata": {},
   "outputs": [],
   "source": [
    "let t = true;\n",
    "\n",
    "    let f: bool = false; // com tipo explícito"
   ]
  },
  {
   "cell_type": "markdown",
   "id": "871f9b99",
   "metadata": {},
   "source": [
    "char em rust e referenciado com aspas simples  ja string são com aspas duplas"
   ]
  },
  {
   "cell_type": "code",
   "execution_count": 9,
   "id": "1fef5f76",
   "metadata": {},
   "outputs": [],
   "source": [
    "  let c = 'z';\n",
    "    let z = 'ℤ';\n",
    "    let heart_eyed_cat = '😻';"
   ]
  },
  {
   "cell_type": "markdown",
   "id": "fd6ec083",
   "metadata": {},
   "source": [
    "tuplas em rust são valores em uma variavel composta onde cada posição tem um tipo  e é um elemento diferente"
   ]
  },
  {
   "cell_type": "code",
   "execution_count": 10,
   "id": "d2b999e9",
   "metadata": {},
   "outputs": [],
   "source": [
    "    let tup: (i32, f64, u8) = (500, 6.4, 1);"
   ]
  },
  {
   "cell_type": "markdown",
   "id": "b7505546",
   "metadata": {},
   "source": [
    "A variável tup liga-se a tupla, porque uma tupla é considerada um único elemento composto.então podemos pegar um elemento x,y,z"
   ]
  },
  {
   "cell_type": "code",
   "execution_count": 11,
   "id": "1935a427",
   "metadata": {},
   "outputs": [
    {
     "name": "stdout",
     "output_type": "stream",
     "text": [
      "O valor do y é: 6.4\n"
     ]
    }
   ],
   "source": [
    " let tup = (500, 6.4, 1);\n",
    "\n",
    "    let (x, y, z) = tup;\n",
    "\n",
    "    println!(\"O valor do y é: {}\", y);"
   ]
  },
  {
   "cell_type": "code",
   "execution_count": null,
   "id": "e1535759",
   "metadata": {},
   "outputs": [],
   "source": [
    "podemos usar um indice para acessar os valores usando ponto(.) como podemos ver abaixo"
   ]
  },
  {
   "cell_type": "code",
   "execution_count": 12,
   "id": "970c67f3",
   "metadata": {},
   "outputs": [],
   "source": [
    " let x: (i32, f64, u8) = (500, 6.4, 1);\n",
    "\n",
    "    let quinhentos = x.0;\n",
    "\n",
    "    let seis_ponto_quatro = x.1;\n",
    "\n",
    "    let um = x.2;"
   ]
  },
  {
   "cell_type": "markdown",
   "id": "f1fc8bc9",
   "metadata": {},
   "source": [
    "representação de uma matriz em rust(todas variaveis devem  ter o mesmo tamanho e tem tamanho fixo)"
   ]
  },
  {
   "cell_type": "code",
   "execution_count": 13,
   "id": "872ddbb0",
   "metadata": {},
   "outputs": [],
   "source": [
    " let a = [1, 2, 3, 4, 5];"
   ]
  },
  {
   "cell_type": "markdown",
   "id": "612183ea",
   "metadata": {},
   "source": [
    "representação de uma matriz de strings"
   ]
  },
  {
   "cell_type": "code",
   "execution_count": 14,
   "id": "d05c6532",
   "metadata": {},
   "outputs": [],
   "source": [
    "let meses = [\"Janeiro\", \"Fevereiro\", \"Março\", \"Abril\", \"Maio\", \"Junho\", \"Julho\",\n",
    "              \"Agosto\", \"Setembro\", \"Outubro\", \"Novembro\", \"Dezembro\"];"
   ]
  },
  {
   "cell_type": "markdown",
   "id": "cbac9fe2",
   "metadata": {},
   "source": [
    "exemplo de acesso a uma matriz onde primeiro pega 1 e o segundo pega dosi correspondente aos elementos da matriz"
   ]
  },
  {
   "cell_type": "code",
   "execution_count": 15,
   "id": "c11174c0",
   "metadata": {},
   "outputs": [],
   "source": [
    "   let a = [1, 2, 3, 4, 5];\n",
    "\n",
    "    let primeiro = a[0];\n",
    "    let segundo = a[1];"
   ]
  },
  {
   "cell_type": "markdown",
   "id": "4e876410",
   "metadata": {},
   "source": [
    "exemplo de acesso invalido a elementos da  matriz"
   ]
  },
  {
   "cell_type": "code",
   "execution_count": 17,
   "id": "c90cc7a2",
   "metadata": {},
   "outputs": [
    {
     "ename": "Error",
     "evalue": "this operation will panic at runtime",
     "output_type": "error",
     "traceback": [
      "    let elemento = a[indice];",
      "\u001b[91m                   ^^^^^^^^^\u001b[0m \u001b[94mindex out of bounds: the length is 5 but the index is 10\u001b[0m",
      "this operation will panic at runtime"
     ]
    }
   ],
   "source": [
    " let a = [1, 2, 3, 4, 5];\n",
    "    let indice = 10;\n",
    "\n",
    "    let elemento = a[indice];\n",
    "\n",
    "    println!(\"O valor do elemento é: {}\", elemento);"
   ]
  },
  {
   "cell_type": "markdown",
   "id": "59964d67",
   "metadata": {},
   "source": [
    "utilizando cargo run o codigo acima ele retorna o seguinte resultado"
   ]
  },
  {
   "cell_type": "raw",
   "id": "e56dc58c",
   "metadata": {},
   "source": [
    "$ cargo run\n",
    "   Compiling arrays v0.1.0 (file:///projects/arrays)\n",
    "    Finished dev [unoptimized + debuginfo] target(s) in 0.31 secs\n",
    "     Running `target/debug/arrays`\n",
    "thread '<main>' panicked at 'index out of bounds: the len is 5 but the index is\n",
    " 10', src/main.rs:6\n",
    "note: Run with `RUST_BACKTRACE=1` for a backtrace."
   ]
  },
  {
   "cell_type": "markdown",
   "id": "54cd37b3",
   "metadata": {},
   "source": [
    " da um erro em tempo de execução,porque o rust verifica se o indice é acessado para não haver acesso indevido a um endereço de memoria invalida"
   ]
  },
  {
   "cell_type": "code",
   "execution_count": null,
   "id": "784eb00c",
   "metadata": {},
   "outputs": [],
   "source": []
  }
 ],
 "metadata": {
  "kernelspec": {
   "display_name": "Rust",
   "language": "rust",
   "name": "rust"
  },
  "language_info": {
   "codemirror_mode": "rust",
   "file_extension": ".rs",
   "mimetype": "text/rust",
   "name": "Rust",
   "pygment_lexer": "rust",
   "version": ""
  }
 },
 "nbformat": 4,
 "nbformat_minor": 5
}
