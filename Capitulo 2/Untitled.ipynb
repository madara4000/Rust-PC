{
 "cells": [
  {
   "cell_type": "code",
   "execution_count": 2,
   "id": "2290f76c",
   "metadata": {},
   "outputs": [],
   "source": [
    "use std::io::{self, Read, Write};"
   ]
  },
  {
   "cell_type": "code",
   "execution_count": 3,
   "id": "f244c59d",
   "metadata": {},
   "outputs": [
    {
     "name": "stdout",
     "output_type": "stream",
     "text": [
      "Advinhe o número!\n",
      "Digite o seu palpite.\n"
     ]
    }
   ],
   "source": [
    "  println!(\"Advinhe o número!\");\n",
    "\n",
    "    println!(\"Digite o seu palpite.\");\n",
    "\n",
    "    let mut palpite = String::new();\n"
   ]
  },
  {
   "cell_type": "code",
   "execution_count": 4,
   "id": "563c66b2",
   "metadata": {},
   "outputs": [
    {
     "ename": "Error",
     "evalue": "cannot assign twice to immutable variable `x`",
     "output_type": "error",
     "traceback": [
      "let x = 5;",
      "\u001b[91m    ^\u001b[0m \u001b[94mfirst assignment to `x`\u001b[0m",
      "    x = 6;",
      "\u001b[91m    ^^^^^\u001b[0m \u001b[94mcannot assign twice to immutable variable\u001b[0m",
      "cannot assign twice to immutable variable `x`",
      "\u001b[1mhelp\u001b[0m: consider making this binding mutable\n\nmut x"
     ]
    }
   ],
   "source": [
    "let x = 5;\n",
    "    println!(\"O valor de x é: {}\", x);\n",
    "    x = 6;\n",
    "    println!(\"O valor de x é: {}\", x);"
   ]
  },
  {
   "cell_type": "code",
   "execution_count": 3,
   "id": "239f81c7",
   "metadata": {},
   "outputs": [
    {
     "ename": "Error",
     "evalue": "can't find crate for `rand`",
     "output_type": "error",
     "traceback": [
      "can't find crate",
      "can't find crate for `rand`"
     ]
    }
   ],
   "source": [
    "extern crate rand;\n",
    "\n",
    "use std::io;\n",
    "use std::cmp::Ordering;\n",
    "use rand::Rng;\n",
    "\n",
    "\n",
    "    println!(\"Advinhe o número!\");\n",
    "\n",
    "    let numero_secreto = rand::thread_rng().gen_range(1, 101);\n",
    "\n",
    "    loop {\n",
    "        println!(\"Digite o seu palpite.\");\n",
    "\n",
    "        let mut palpite = String::new();\n",
    "\n",
    "        io::stdin().read_line(&mut palpite)\n",
    "            .expect(\"Falha ao ler entrada\");\n",
    "\n",
    "        let palpite: u32 = match palpite.trim().parse() {\n",
    "            Ok(num) => num,\n",
    "            Err(_) => continue,\n",
    "        };\n",
    "\n",
    "        println!(\"Você disse: {}\", palpite);\n",
    "\n",
    "        match palpite.cmp(&numero_secreto) {\n",
    "            Ordering::Less => println!(\"Muito baixo!\"),\n",
    "            Ordering::Greater => println!(\"Muito alto!\"),\n",
    "            Ordering::Equal => {\n",
    "                println!(\"Você acertou!\");\n",
    "                break;\n",
    "            }\n",
    "        }\n",
    "    }"
   ]
  },
  {
   "cell_type": "code",
   "execution_count": null,
   "id": "e68d25da",
   "metadata": {},
   "outputs": [],
   "source": []
  },
  {
   "cell_type": "code",
   "execution_count": null,
   "id": "26933567",
   "metadata": {},
   "outputs": [],
   "source": []
  }
 ],
 "metadata": {
  "kernelspec": {
   "display_name": "Rust",
   "language": "rust",
   "name": "rust"
  },
  "language_info": {
   "codemirror_mode": "rust",
   "file_extension": ".rs",
   "mimetype": "text/rust",
   "name": "Rust",
   "pygment_lexer": "rust",
   "version": ""
  }
 },
 "nbformat": 4,
 "nbformat_minor": 5
}
