{
 "cells": [
  {
   "cell_type": "markdown",
   "id": "4f4ab5e9",
   "metadata": {},
   "source": [
    "# Projeto jogo de adivinhação"
   ]
  },
  {
   "cell_type": "markdown",
   "id": "598a8a63",
   "metadata": {},
   "source": [
    "Criação de um novo projeto Rust usando o comando cargo new."
   ]
  },
  {
   "cell_type": "raw",
   "id": "a7f3771e",
   "metadata": {},
   "source": [
    "$ cargo new jogo_de_advinhacao --bin\n",
    "$ cd jogo_de_advinhacao"
   ]
  },
  {
   "cell_type": "markdown",
   "id": "4eedcd37",
   "metadata": {},
   "source": [
    "Configuração do arquivo Cargo.toml com informações do projeto."
   ]
  },
  {
   "cell_type": "raw",
   "id": "131a85f2",
   "metadata": {},
   "source": [
    "[package]\n",
    "name = \"jogo_de_advinhacao\"\n",
    "version = \"0.1.0\"\n",
    "authors = [\"Seu Nome <voce@exemplo.com>\"]\n",
    "\n",
    "[dependencies]"
   ]
  },
  {
   "cell_type": "markdown",
   "id": "a3c30118",
   "metadata": {},
   "source": [
    "o cargo new acima realizara um hello world como no cap 1"
   ]
  },
  {
   "cell_type": "code",
   "execution_count": 2,
   "id": "2128d5b0",
   "metadata": {},
   "outputs": [
    {
     "name": "stdout",
     "output_type": "stream",
     "text": [
      "Hello, world!\n"
     ]
    }
   ],
   "source": [
    "println!(\"Hello, world!\");\n"
   ]
  },
  {
   "cell_type": "markdown",
   "id": "8604e083",
   "metadata": {},
   "source": [
    "se compila com cargo run dara o seguinte resultado no terminal"
   ]
  },
  {
   "cell_type": "raw",
   "id": "51bd6755",
   "metadata": {},
   "source": [
    "$ cargo run\n",
    "   Compiling jogo_de_advinhacao v0.1.0 (file:///projects/jogo_de_advinhacao)\n",
    "    Finished dev [unoptimized + debuginfo] target(s) in 1.50 secs\n",
    "     Running `target/debug/jogo_de_advinhacao`\n",
    "Hello, world!"
   ]
  },
  {
   "cell_type": "markdown",
   "id": "2896bc2a",
   "metadata": {},
   "source": [
    "inclusão da biblioteca"
   ]
  },
  {
   "cell_type": "code",
   "execution_count": null,
   "id": "22d3b18f",
   "metadata": {},
   "outputs": [],
   "source": []
  },
  {
   "cell_type": "code",
   "execution_count": null,
   "id": "22d338de",
   "metadata": {},
   "outputs": [],
   "source": [
    "use std::io;\n",
    "\n",
    "    println!(\"Advinhe o número!\");\n",
    "\n",
    "    println!(\"Digite o seu palpite.\");\n",
    "\n",
    "    let mut palpite = String::new();\n",
    "\n",
    "    io::stdin().read_line(&mut palpite)\n",
    "        .expect(\"Falha ao ler entrada\");\n",
    "\n",
    "    println!(\"Você disse: {}\", palpite);\n"
   ]
  },
  {
   "cell_type": "code",
   "execution_count": null,
   "id": "946e626b",
   "metadata": {},
   "outputs": [],
   "source": [
    "  \n",
    "\n",
    "println!(\"Você disse: {}\", palpite);\n",
    "}\n"
   ]
  },
  {
   "cell_type": "code",
   "execution_count": null,
   "id": "6c7b12ca",
   "metadata": {},
   "outputs": [],
   "source": [
    "let mut palpite = String::new();"
   ]
  },
  {
   "cell_type": "code",
   "execution_count": null,
   "id": "2d3658c9",
   "metadata": {},
   "outputs": [],
   "source": [
    "let foo = bar;"
   ]
  },
  {
   "cell_type": "code",
   "execution_count": null,
   "id": "94656162",
   "metadata": {},
   "outputs": [],
   "source": [
    "let foo = 5; // imutável\n",
    "let mut bar = 5; // mutável"
   ]
  },
  {
   "cell_type": "code",
   "execution_count": null,
   "id": "f8d8e241",
   "metadata": {},
   "outputs": [],
   "source": [
    "io::stdin().read_line(&mut palpite)\n",
    "    .expect(\"Falha ao ler entrada\");"
   ]
  },
  {
   "cell_type": "code",
   "execution_count": null,
   "id": "250397f9",
   "metadata": {},
   "outputs": [],
   "source": [
    ".expect(\"Falha ao ler entrada\");"
   ]
  },
  {
   "cell_type": "code",
   "execution_count": null,
   "id": "22e03b85",
   "metadata": {},
   "outputs": [],
   "source": [
    "io::stdin().read_line(&mut palpite).expect(\"Falha ao ler entrada\");"
   ]
  },
  {
   "cell_type": "raw",
   "id": "9c19dced",
   "metadata": {},
   "source": [
    "$ cargo build\n",
    "   Compiling jogo_de_advinhacao v0.1.0 (file:///projects/jogo_de_advinhacao)\n",
    "warning: unused `std::result::Result` which must be used\n",
    "  --> src/main.rs:10:5\n",
    "   |\n",
    "10 |     io::stdin().read_line(&mut palpite);\n",
    "   |     ^^^^^^^^^^^^^^^^^^^^^^^^^^^^^^^^^^^^\n",
    "   |\n",
    "   = note: #[warn(unused_must_use)] on by default"
   ]
  },
  {
   "cell_type": "code",
   "execution_count": null,
   "id": "fdbfaacb",
   "metadata": {},
   "outputs": [],
   "source": [
    "println!(\"Você disse: {}\", palpite);"
   ]
  },
  {
   "cell_type": "code",
   "execution_count": null,
   "id": "2f4a1e1d",
   "metadata": {},
   "outputs": [],
   "source": [
    "let x = 5;\n",
    "let y = 10;\n",
    "\n",
    "println!(\"x = {} e y = {}\", x, y);"
   ]
  },
  {
   "cell_type": "raw",
   "id": "30babb4d",
   "metadata": {},
   "source": [
    "[dependencies]\n",
    "\n",
    "rand = \"0.3.14\""
   ]
  },
  {
   "cell_type": "raw",
   "id": "ca7305f5",
   "metadata": {},
   "source": [
    "$ cargo build\n",
    "    Updating registry `https://github.com/rust-lang/crates.io-index`\n",
    " Downloading rand v0.3.14\n",
    " Downloading libc v0.2.14\n",
    "   Compiling libc v0.2.14\n",
    "   Compiling rand v0.3.14\n",
    "   Compiling jogo_de_advinhacao v0.1.0 (file:///projects/jogo_de_advinhacao)\n",
    "    Finished dev [unoptimized + debuginfo] target(s) in 2.53 secs\n"
   ]
  },
  {
   "cell_type": "raw",
   "id": "1c70bb1a",
   "metadata": {},
   "source": [
    "$ cargo build\n",
    "   Compiling jogo_de_advinhacao v0.1.0 (file:///projects/jogo_de_advinhacao)\n",
    "    Finished dev [unoptimized + debuginfo] target(s) in 2.53 secs"
   ]
  },
  {
   "cell_type": "raw",
   "id": "d690e8d9",
   "metadata": {},
   "source": [
    "$ cargo update\n",
    "    Updating registry `https://github.com/rust-lang/crates.io-index`\n",
    "    Updating rand v0.3.14 -> v0.3.15\n"
   ]
  },
  {
   "cell_type": "raw",
   "id": "4e519742",
   "metadata": {},
   "source": [
    "[dependencies]\n",
    "\n",
    "rand = \"0.4.0\""
   ]
  },
  {
   "cell_type": "code",
   "execution_count": null,
   "id": "e284f632",
   "metadata": {},
   "outputs": [],
   "source": [
    "extern crate rand;\n",
    "\n",
    "use std::io;\n",
    "use rand::Rng;\n",
    "\n",
    "    println!(\"Advinhe o número!\");\n",
    "\n",
    "    let numero_secreto = rand::thread_rng().gen_range(1, 101);\n",
    "\n",
    "    println!(\"O número secreto é: {}\", numero_secreto);\n",
    "\n",
    "    println!(\"Digite o seu palpite.\");\n",
    "\n",
    "    let mut palpite = String::new();\n",
    "\n",
    "    io::stdin().read_line(&mut palpite)\n",
    "        .expect(\"Falha ao ler entrada\");\n",
    "\n",
    "    println!(\"Você disse: {}\", palpite);\n"
   ]
  },
  {
   "cell_type": "code",
   "execution_count": null,
   "id": "510ccfd4",
   "metadata": {},
   "outputs": [],
   "source": [
    "extern crate rand;\n",
    "\n",
    "use std::io;\n",
    "use std::cmp::Ordering;\n",
    "use rand::Rng;\n",
    "\n",
    "\n",
    "    println!(\"Advinhe o número!\");\n",
    "\n",
    "    let numero_secreto = rand::thread_rng().gen_range(1, 101);\n",
    "\n",
    "    println!(\"O número secreto é: {}\", numero_secreto);\n",
    "\n",
    "    println!(\"Digite o seu palpite.\");\n",
    "\n",
    "    let mut palpite = String::new();\n",
    "\n",
    "    io::stdin().read_line(&mut palpite)\n",
    "        .expect(\"Falha ao ler entrada\");\n",
    "\n",
    "    println!(\"Você disse: {}\", palpite);\n",
    "\n",
    "    match palpite.cmp(&numero_secreto) {\n",
    "        Ordering::Less => println!(\"Muito baixo!\"),\n",
    "        Ordering::Greater => println!(\"Muito alto!\"),\n",
    "        Ordering::Equal => println!(\"Você acertou!\"),\n",
    "    }\n"
   ]
  },
  {
   "cell_type": "code",
   "execution_count": null,
   "id": "1d85e6ec",
   "metadata": {},
   "outputs": [],
   "source": [
    "match palpite.cmp(&numero_secreto) {\n",
    "    Ordering::Less => println!(\"Muito baixo!\"),\n",
    "    Ordering::Greater => println!(\"Muito alto!\"),\n",
    "    Ordering::Equal => println!(\"Você acertou!\"),\n",
    "}"
   ]
  },
  {
   "cell_type": "code",
   "execution_count": null,
   "id": "311a38e3",
   "metadata": {},
   "outputs": [],
   "source": [
    "$ cargo build\n",
    "   Compiling jogo_de_advinhacao v0.1.0 (file:///projects/jogo_de_advinhacao)\n",
    "error[E0308]: mismatched types\n",
    "  --> src/main.rs:23:21\n",
    "   |\n",
    "23 |     match palpite.cmp(&numero_secreto) {\n",
    "   |                       ^^^^^^^^^^^^^^^ expected struct `std::string::String`, found integral variable\n",
    "   |\n",
    "   = note: expected type `&std::string::String`\n",
    "   = note:    found type `&{integer}`\n",
    "\n",
    "error: aborting due to previous error\n",
    "Could not compile `jogo_de_advinhacao`."
   ]
  },
  {
   "cell_type": "code",
   "execution_count": null,
   "id": "14704465",
   "metadata": {},
   "outputs": [],
   "source": [
    "use std::io;\n",
    "use std::cmp::Ordering;\n",
    "use rand::Rng;\n",
    "\n",
    "fn main() {\n",
    "    println!(\"Advinhe o número!\");\n",
    "\n",
    "    let numero_secreto = rand::thread_rng().gen_range(1, 101);\n",
    "\n",
    "    println!(\"O número secreto é: {}\", numero_secreto);\n",
    "\n",
    "    println!(\"Digite o seu palpite.\");\n",
    "\n",
    "    let mut palpite = String::new();\n",
    "\n",
    "    io::stdin().read_line(&mut palpite)\n",
    "        .expect(\"Falha ao ler entrada\");\n",
    "\n",
    "    let palpite: u32 = palpite.trim().parse()\n",
    "        .expect(\"Por favor, digite um número!\");\n",
    "\n",
    "    println!(\"Você disse: {}\", palpite);\n",
    "\n",
    "    match palpite.cmp(&numero_secreto) {\n",
    "        Ordering::Less => println!(\"Muito baixo!\"),\n",
    "        Ordering::Greater => println!(\"Muito alto!\"),\n",
    "        Ordering::Equal => println!(\"Você acertou!\"),\n",
    "    }\n",
    "}"
   ]
  },
  {
   "cell_type": "code",
   "execution_count": null,
   "id": "5c30f567",
   "metadata": {},
   "outputs": [],
   "source": [
    "let palpite: u32 = palpite.trim().parse()\n",
    "    .expect(\"Por favor, digite um número!\");"
   ]
  },
  {
   "cell_type": "raw",
   "id": "1f6d02a1",
   "metadata": {},
   "source": [
    "$ cargo run\n",
    "   Compiling jogo_de_advinhacao v0.1.0 (file:///projects/jogo_de_advinhacao)\n",
    "    Finished dev [unoptimized + debuginfo] target(s) in 0.43 secs\n",
    "     Running `target/jogo_de_advinhacao`\n",
    "Advinhe o número!\n",
    "O número secreto é: 58\n",
    "Digite o seu palpite.\n",
    "  76\n",
    "Você disse: 76\n",
    "Muito alto!"
   ]
  },
  {
   "cell_type": "code",
   "execution_count": null,
   "id": "04376447",
   "metadata": {},
   "outputs": [],
   "source": [
    "extern crate rand;\n",
    "\n",
    "use std::io;\n",
    "use std::cmp::Ordering;\n",
    "use rand::Rng;\n",
    "\n",
    "\n",
    "    println!(\"Advinhe o número!\");\n",
    "\n",
    "    let numero_secreto = rand::thread_rng().gen_range(1, 101);\n",
    "\n",
    "    println!(\"O número secreto é: {}\", numero_secreto);\n",
    "\n",
    "    loop {\n",
    "        println!(\"Digite o seu palpite.\");\n",
    "\n",
    "        let mut palpite = String::new();\n",
    "\n",
    "        io::stdin().read_line(&mut palpite)\n",
    "            .expect(\"Falha ao ler entrada\");\n",
    "\n",
    "        let palpite: u32 = palpite.trim().parse()\n",
    "            .expect(\"Por favor, digite um número!\");\n",
    "\n",
    "        println!(\"Você disse: {}\", palpite);\n",
    "\n",
    "        match palpite.cmp(&numero_secreto) {\n",
    "            Ordering::Less => println!(\"Muito baixo!\"),\n",
    "            Ordering::Greater => println!(\"Muito alto!\"),\n",
    "            Ordering::Equal => println!(\"Você acertou!\"),\n",
    "        }\n",
    "    \n",
    "}"
   ]
  },
  {
   "cell_type": "code",
   "execution_count": null,
   "id": "bc2169b1",
   "metadata": {},
   "outputs": [],
   "source": [
    "extern crate rand;\n",
    "\n",
    "use std::io;\n",
    "use std::cmp::Ordering;\n",
    "use rand::Rng;\n",
    "\n",
    "\n",
    "    println!(\"Advinhe o número!\");\n",
    "\n",
    "    let numero_secreto = rand::thread_rng().gen_range(1, 101);\n",
    "\n",
    "    println!(\"O número secreto é: {}\", numero_secreto);\n",
    "\n",
    "    loop {\n",
    "        println!(\"Digite o seu palpite.\");\n",
    "\n",
    "        let mut palpite = String::new();\n",
    "\n",
    "        io::stdin().read_line(&mut palpite)\n",
    "            .expect(\"Falha ao ler entrada\");\n",
    "\n",
    "        let palpite: u32 = palpite.trim().parse()\n",
    "            .expect(\"Por favor, digite um número!\");\n",
    "\n",
    "        println!(\"Você disse: {}\", palpite);\n",
    "\n",
    "        match palpite.cmp(&numero_secreto) {\n",
    "            Ordering::Less => println!(\"Muito baixo\"),\n",
    "            Ordering::Greater => println!(\"Muito alto!\"),\n",
    "            Ordering::Equal => {\n",
    "                println!(\"Você acertou!\");\n",
    "                break;\n",
    "            }\n",
    "        }\n",
    "    }\n"
   ]
  },
  {
   "cell_type": "code",
   "execution_count": null,
   "id": "7a3e128e",
   "metadata": {},
   "outputs": [],
   "source": [
    "let palpite: u32 = match palpite.trim().parse() {\n",
    "    Ok(num) => num,\n",
    "    Err(_) => continue,\n",
    "};"
   ]
  },
  {
   "cell_type": "code",
   "execution_count": null,
   "id": "aba40eff",
   "metadata": {},
   "outputs": [],
   "source": [
    "extern crate rand;\n",
    "\n",
    "use std::io;\n",
    "use std::cmp::Ordering;\n",
    "use rand::Rng;\n",
    "\n",
    "\n",
    "    println!(\"Advinhe o número!\");\n",
    "\n",
    "    let numero_secreto = rand::thread_rng().gen_range(1, 101);\n",
    "\n",
    "    loop {\n",
    "        println!(\"Digite o seu palpite.\");\n",
    "\n",
    "        let mut palpite = String::new();\n",
    "\n",
    "        io::stdin().read_line(&mut palpite)\n",
    "            .expect(\"Falha ao ler entrada\");\n",
    "\n",
    "        let palpite: u32 = match palpite.trim().parse() {\n",
    "            Ok(num) => num,\n",
    "            Err(_) => continue,\n",
    "        };\n",
    "\n",
    "        println!(\"Você disse: {}\", palpite);\n",
    "\n",
    "        match palpite.cmp(&numero_secreto) {\n",
    "            Ordering::Less => println!(\"Muito baixo!\"),\n",
    "            Ordering::Greater => println!(\"Muito alto!\"),\n",
    "            Ordering::Equal => {\n",
    "                println!(\"Você acertou!\");\n",
    "                break;\n",
    "            }\n",
    "        }\n",
    "    }\n"
   ]
  },
  {
   "cell_type": "code",
   "execution_count": null,
   "id": "f870d551",
   "metadata": {},
   "outputs": [],
   "source": [
    "let mut s = String::from(\"olá\");\n",
    "\n",
    "s.push_str(\", mundo!\"); // push_str() adiciona um literal à String\n",
    "\n",
    "println!(\"{}\", s); // Isso vai exibir `olá, mundo!`"
   ]
  }
 ],
 "metadata": {
  "kernelspec": {
   "display_name": "Rust",
   "language": "rust",
   "name": "rust"
  },
  "language_info": {
   "codemirror_mode": "rust",
   "file_extension": ".rs",
   "mimetype": "text/rust",
   "name": "Rust",
   "pygment_lexer": "rust",
   "version": ""
  }
 },
 "nbformat": 4,
 "nbformat_minor": 5
}
