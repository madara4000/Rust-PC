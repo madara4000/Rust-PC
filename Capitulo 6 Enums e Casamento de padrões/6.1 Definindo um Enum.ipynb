{
 "cells": [
  {
   "cell_type": "code",
   "execution_count": 2,
   "id": "c746a7a2",
   "metadata": {},
   "outputs": [],
   "source": [
    "enum VersaoIp {\n",
    "    V4,\n",
    "    V6,\n",
    "}\n"
   ]
  },
  {
   "cell_type": "code",
   "execution_count": 3,
   "id": "bc32cea1",
   "metadata": {},
   "outputs": [],
   "source": [
    "let quatro = VersaoIp::V4;\n",
    "let seis = VersaoIp::V6;"
   ]
  },
  {
   "cell_type": "code",
   "execution_count": 4,
   "id": "d9d40bb3",
   "metadata": {},
   "outputs": [],
   "source": [
    "fn rotear(versao_ip: VersaoIp) { }"
   ]
  },
  {
   "cell_type": "code",
   "execution_count": 5,
   "id": "3d1aeebb",
   "metadata": {},
   "outputs": [],
   "source": [
    "enum VersaoIp {\n",
    "    V4,\n",
    "    V6,\n",
    "}\n",
    "\n",
    "struct EnderecoIp {\n",
    "    versao: VersaoIp,\n",
    "    endereco: String,\n",
    "}\n",
    "\n",
    "let local = EnderecoIp {\n",
    "    versao: VersaoIp::V4,\n",
    "    endereco: String::from(\"127.0.0.1\"),\n",
    "};\n",
    "\n",
    "let loopback = EnderecoIp {\n",
    "    versao: VersaoIp::V6,\n",
    "    endereco: String::from(\"::1\"),\n",
    "};\n"
   ]
  },
  {
   "cell_type": "code",
   "execution_count": 6,
   "id": "7fe34610",
   "metadata": {},
   "outputs": [
    {
     "name": "stderr",
     "output_type": "stream",
     "text": [
      "The type of the variable loopback was redefined, so was lost.\n",
      "The type of the variable local was redefined, so was lost.\n"
     ]
    }
   ],
   "source": [
    "enum EnderecoIp {\n",
    "    V4(String),\n",
    "    V6(String),\n",
    "}\n",
    "\n",
    "let local = EnderecoIp::V4(String::from(\"127.0.0.1\"));\n",
    "\n",
    "let loopback = EnderecoIp::V6(String::from(\"::1\"));"
   ]
  },
  {
   "cell_type": "code",
   "execution_count": 7,
   "id": "f644c4ea",
   "metadata": {},
   "outputs": [],
   "source": [
    "enum EnderecoIp {\n",
    "    V4(u8, u8, u8, u8),\n",
    "    V6(String),\n",
    "}\n",
    "\n",
    "let local = EnderecoIp::V4(127, 0, 0, 1);\n",
    "\n",
    "let loopback = EnderecoIp::V6(String::from(\"::1\"));\n"
   ]
  },
  {
   "cell_type": "code",
   "execution_count": 8,
   "id": "8355c915",
   "metadata": {},
   "outputs": [],
   "source": [
    "struct Ipv4Addr {\n",
    "    // detalhes omitidos\n",
    "}\n",
    "\n",
    "struct Ipv6Addr {\n",
    "    // detalhes omitidos\n",
    "}\n",
    "\n",
    "enum IpAddr {\n",
    "    V4(Ipv4Addr),\n",
    "    V6(Ipv6Addr),\n",
    "}\n"
   ]
  },
  {
   "cell_type": "code",
   "execution_count": 9,
   "id": "7a534c9f",
   "metadata": {},
   "outputs": [],
   "source": [
    "enum Mensagem {\n",
    "    Sair,\n",
    "    Mover { x: i32, y: i32 },\n",
    "    Escrever(String),\n",
    "    MudarCor(i32, i32, i32),\n",
    "}"
   ]
  },
  {
   "cell_type": "code",
   "execution_count": 10,
   "id": "0e4b0780",
   "metadata": {},
   "outputs": [],
   "source": [
    "struct MensagemSair; // unit struct\n",
    "struct MensagemMover {\n",
    "    x: i32,\n",
    "    y: i32,\n",
    "}\n",
    "struct MensagemEscrever(String); // tuple struct\n",
    "struct MensagemMudarCor(i32, i32, i32); // tuple struct\n"
   ]
  },
  {
   "cell_type": "code",
   "execution_count": 11,
   "id": "7ffbd510",
   "metadata": {},
   "outputs": [],
   "source": [
    "impl Mensagem {\n",
    "    fn invocar(&self) {\n",
    "        // o corpo do método é definido aqui\n",
    "    }\n",
    "}\n",
    "\n",
    "let m = Mensagem::Escrever(String::from(\"olá\"));\n",
    "m.invocar();\n"
   ]
  },
  {
   "cell_type": "code",
   "execution_count": 12,
   "id": "4dcb9b1d",
   "metadata": {},
   "outputs": [],
   "source": [
    "enum Option<T> {\n",
    "    Some(T), // algum valor\n",
    "    None, // nenhum valor\n",
    "}"
   ]
  },
  {
   "cell_type": "code",
   "execution_count": 13,
   "id": "99395e2d",
   "metadata": {},
   "outputs": [
    {
     "ename": "Error",
     "evalue": "mismatched types",
     "output_type": "error",
     "traceback": [
      "\u001b[31m[E0308] Error:\u001b[0m mismatched types",
      "   \u001b[38;5;246m╭\u001b[0m\u001b[38;5;246m─\u001b[0m\u001b[38;5;246m[\u001b[0mcommand_13:1:1\u001b[38;5;246m]\u001b[0m",
      "   \u001b[38;5;246m│\u001b[0m",
      " \u001b[38;5;246m4 │\u001b[0m \u001b[38;5;249ml\u001b[0m\u001b[38;5;249me\u001b[0m\u001b[38;5;249mt\u001b[0m\u001b[38;5;249m \u001b[0m\u001b[38;5;249mn\u001b[0m\u001b[38;5;249mu\u001b[0m\u001b[38;5;249mm\u001b[0m\u001b[38;5;249me\u001b[0m\u001b[38;5;249mr\u001b[0m\u001b[38;5;249mo\u001b[0m\u001b[38;5;249m_\u001b[0m\u001b[38;5;249ma\u001b[0m\u001b[38;5;249mu\u001b[0m\u001b[38;5;249ms\u001b[0m\u001b[38;5;249me\u001b[0m\u001b[38;5;249mn\u001b[0m\u001b[38;5;249mt\u001b[0m\u001b[38;5;249me\u001b[0m\u001b[38;5;249m:\u001b[0m\u001b[38;5;249m \u001b[0m\u001b[38;5;100mO\u001b[0m\u001b[38;5;100mp\u001b[0m\u001b[38;5;100mt\u001b[0m\u001b[38;5;100mi\u001b[0m\u001b[38;5;100mo\u001b[0m\u001b[38;5;100mn\u001b[0m\u001b[38;5;100m<\u001b[0m\u001b[38;5;100mi\u001b[0m\u001b[38;5;100m3\u001b[0m\u001b[38;5;100m2\u001b[0m\u001b[38;5;100m>\u001b[0m\u001b[38;5;249m \u001b[0m\u001b[38;5;249m=\u001b[0m\u001b[38;5;249m \u001b[0m\u001b[38;5;54mN\u001b[0m\u001b[38;5;54mo\u001b[0m\u001b[38;5;54mn\u001b[0m\u001b[38;5;54me\u001b[0m\u001b[38;5;249m;\u001b[0m",
      " \u001b[38;5;246m  ·\u001b[0m                     \u001b[38;5;100m─\u001b[0m\u001b[38;5;100m─\u001b[0m\u001b[38;5;100m─\u001b[0m\u001b[38;5;100m─\u001b[0m\u001b[38;5;100m─\u001b[0m\u001b[38;5;100m┬\u001b[0m\u001b[38;5;100m─\u001b[0m\u001b[38;5;100m─\u001b[0m\u001b[38;5;100m─\u001b[0m\u001b[38;5;100m─\u001b[0m\u001b[38;5;100m─\u001b[0m   \u001b[38;5;54m─\u001b[0m\u001b[38;5;54m─\u001b[0m\u001b[38;5;54m┬\u001b[0m\u001b[38;5;54m─\u001b[0m  ",
      " \u001b[38;5;246m  ·\u001b[0m                          \u001b[38;5;100m╰\u001b[0m\u001b[38;5;100m─\u001b[0m\u001b[38;5;100m─\u001b[0m\u001b[38;5;100m─\u001b[0m\u001b[38;5;100m─\u001b[0m\u001b[38;5;100m─\u001b[0m\u001b[38;5;100m─\u001b[0m\u001b[38;5;100m─\u001b[0m\u001b[38;5;100m─\u001b[0m\u001b[38;5;100m─\u001b[0m\u001b[38;5;100m─\u001b[0m\u001b[38;5;100m─\u001b[0m\u001b[38;5;100m─\u001b[0m\u001b[38;5;100m─\u001b[0m\u001b[38;5;100m─\u001b[0m expected due to this",
      " \u001b[38;5;246m  ·\u001b[0m                                     \u001b[38;5;54m│\u001b[0m   ",
      " \u001b[38;5;246m  ·\u001b[0m                                     \u001b[38;5;54m╰\u001b[0m\u001b[38;5;54m─\u001b[0m\u001b[38;5;54m─\u001b[0m\u001b[38;5;54m─\u001b[0m expected `Option<i32>`, found `Option<_>`",
      " \u001b[38;5;246m  ·\u001b[0m ",
      " \u001b[38;5;246m  ·\u001b[0m \u001b[38;5;115mNote\u001b[0m: note: `std::option::Option<_>` is defined in crate `core`note: `Option<i32>` is defined in the current crate",
      "\u001b[38;5;246m───╯\u001b[0m"
     ]
    },
    {
     "ename": "Error",
     "evalue": "`Option<i32>` is defined in the current crate",
     "output_type": "error",
     "traceback": [
      "\u001b[31mError:\u001b[0m `Option<i32>` is defined in the current crate"
     ]
    },
    {
     "ename": "Error",
     "evalue": "`Option<&str>` is defined in the current crate",
     "output_type": "error",
     "traceback": [
      "\u001b[31mError:\u001b[0m `Option<&str>` is defined in the current crate"
     ]
    }
   ],
   "source": [
    "let algum_numero = Some(5);\n",
    "let algum_texto = Some(\"um texto\");\n",
    "\n",
    "let numero_ausente: Option<i32> = None;\n"
   ]
  },
  {
   "cell_type": "code",
   "execution_count": 14,
   "id": "89be64a8",
   "metadata": {},
   "outputs": [
    {
     "ename": "Error",
     "evalue": "mismatched types",
     "output_type": "error",
     "traceback": [
      "\u001b[31m[E0308] Error:\u001b[0m mismatched types",
      "   \u001b[38;5;246m╭\u001b[0m\u001b[38;5;246m─\u001b[0m\u001b[38;5;246m[\u001b[0mcommand_14:1:1\u001b[38;5;246m]\u001b[0m",
      "   \u001b[38;5;246m│\u001b[0m",
      " \u001b[38;5;246m2 │\u001b[0m \u001b[38;5;249ml\u001b[0m\u001b[38;5;249me\u001b[0m\u001b[38;5;249mt\u001b[0m\u001b[38;5;249m \u001b[0m\u001b[38;5;249my\u001b[0m\u001b[38;5;249m:\u001b[0m\u001b[38;5;249m \u001b[0m\u001b[38;5;100mO\u001b[0m\u001b[38;5;100mp\u001b[0m\u001b[38;5;100mt\u001b[0m\u001b[38;5;100mi\u001b[0m\u001b[38;5;100mo\u001b[0m\u001b[38;5;100mn\u001b[0m\u001b[38;5;100m<\u001b[0m\u001b[38;5;100mi\u001b[0m\u001b[38;5;100m8\u001b[0m\u001b[38;5;100m>\u001b[0m\u001b[38;5;249m \u001b[0m\u001b[38;5;249m=\u001b[0m\u001b[38;5;249m \u001b[0m\u001b[38;5;54mS\u001b[0m\u001b[38;5;54mo\u001b[0m\u001b[38;5;54mm\u001b[0m\u001b[38;5;54me\u001b[0m\u001b[38;5;54m(\u001b[0m\u001b[38;5;54m5\u001b[0m\u001b[38;5;54m)\u001b[0m\u001b[38;5;249m;\u001b[0m",
      " \u001b[38;5;246m  ·\u001b[0m        \u001b[38;5;100m─\u001b[0m\u001b[38;5;100m─\u001b[0m\u001b[38;5;100m─\u001b[0m\u001b[38;5;100m─\u001b[0m\u001b[38;5;100m─\u001b[0m\u001b[38;5;100m┬\u001b[0m\u001b[38;5;100m─\u001b[0m\u001b[38;5;100m─\u001b[0m\u001b[38;5;100m─\u001b[0m\u001b[38;5;100m─\u001b[0m   \u001b[38;5;54m─\u001b[0m\u001b[38;5;54m─\u001b[0m\u001b[38;5;54m─\u001b[0m\u001b[38;5;54m┬\u001b[0m\u001b[38;5;54m─\u001b[0m\u001b[38;5;54m─\u001b[0m\u001b[38;5;54m─\u001b[0m  ",
      " \u001b[38;5;246m  ·\u001b[0m             \u001b[38;5;100m╰\u001b[0m\u001b[38;5;100m─\u001b[0m\u001b[38;5;100m─\u001b[0m\u001b[38;5;100m─\u001b[0m\u001b[38;5;100m─\u001b[0m\u001b[38;5;100m─\u001b[0m\u001b[38;5;100m─\u001b[0m\u001b[38;5;100m─\u001b[0m\u001b[38;5;100m─\u001b[0m\u001b[38;5;100m─\u001b[0m\u001b[38;5;100m─\u001b[0m\u001b[38;5;100m─\u001b[0m\u001b[38;5;100m─\u001b[0m\u001b[38;5;100m─\u001b[0m\u001b[38;5;100m─\u001b[0m\u001b[38;5;100m─\u001b[0m\u001b[38;5;100m─\u001b[0m expected due to this",
      " \u001b[38;5;246m  ·\u001b[0m                        \u001b[38;5;54m│\u001b[0m     ",
      " \u001b[38;5;246m  ·\u001b[0m                        \u001b[38;5;54m╰\u001b[0m\u001b[38;5;54m─\u001b[0m\u001b[38;5;54m─\u001b[0m\u001b[38;5;54m─\u001b[0m\u001b[38;5;54m─\u001b[0m\u001b[38;5;54m─\u001b[0m expected `Option<i8>`, found `Option<{integer}>`",
      " \u001b[38;5;246m  ·\u001b[0m ",
      " \u001b[38;5;246m  ·\u001b[0m \u001b[38;5;115mNote\u001b[0m: note: `std::option::Option<{integer}>` is defined in crate `core`note: `Option<i8>` is defined in the current crate",
      "\u001b[38;5;246m───╯\u001b[0m"
     ]
    },
    {
     "ename": "Error",
     "evalue": "cannot add `Option<i8>` to `i8`",
     "output_type": "error",
     "traceback": [
      "\u001b[31m[E0277] Error:\u001b[0m cannot add `Option<i8>` to `i8`",
      "   \u001b[38;5;246m╭\u001b[0m\u001b[38;5;246m─\u001b[0m\u001b[38;5;246m[\u001b[0mcommand_14:1:1\u001b[38;5;246m]\u001b[0m",
      "   \u001b[38;5;246m│\u001b[0m",
      " \u001b[38;5;246m4 │\u001b[0m \u001b[38;5;249ml\u001b[0m\u001b[38;5;249me\u001b[0m\u001b[38;5;249mt\u001b[0m\u001b[38;5;249m \u001b[0m\u001b[38;5;249ms\u001b[0m\u001b[38;5;249mo\u001b[0m\u001b[38;5;249mm\u001b[0m\u001b[38;5;249ma\u001b[0m\u001b[38;5;249m \u001b[0m\u001b[38;5;249m=\u001b[0m\u001b[38;5;249m \u001b[0m\u001b[38;5;249mx\u001b[0m\u001b[38;5;249m \u001b[0m\u001b[38;5;54m+\u001b[0m\u001b[38;5;249m \u001b[0m\u001b[38;5;249my\u001b[0m\u001b[38;5;249m;\u001b[0m",
      " \u001b[38;5;246m  ·\u001b[0m              \u001b[38;5;54m┬\u001b[0m  ",
      " \u001b[38;5;246m  ·\u001b[0m              \u001b[38;5;54m╰\u001b[0m\u001b[38;5;54m─\u001b[0m\u001b[38;5;54m─\u001b[0m no implementation for `i8 + Option<i8>`",
      "\u001b[38;5;246m───╯\u001b[0m"
     ]
    }
   ],
   "source": [
    "let x: i8 = 5;\n",
    "let y: Option<i8> = Some(5);\n",
    "\n",
    "let soma = x + y;"
   ]
  },
  {
   "cell_type": "code",
   "execution_count": null,
   "id": "ebb955e1",
   "metadata": {},
   "outputs": [],
   "source": []
  }
 ],
 "metadata": {
  "kernelspec": {
   "display_name": "Rust",
   "language": "rust",
   "name": "rust"
  },
  "language_info": {
   "codemirror_mode": "rust",
   "file_extension": ".rs",
   "mimetype": "text/rust",
   "name": "Rust",
   "pygment_lexer": "rust",
   "version": ""
  }
 },
 "nbformat": 4,
 "nbformat_minor": 5
}
