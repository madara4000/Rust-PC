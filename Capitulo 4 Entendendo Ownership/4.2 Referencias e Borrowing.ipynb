{
 "cells": [
  {
   "cell_type": "markdown",
   "id": "c2662287",
   "metadata": {},
   "source": [
    "exemplo de uma função com uma referencia para um objeto que é um parametro"
   ]
  },
  {
   "cell_type": "code",
   "execution_count": 3,
   "id": "dd556580",
   "metadata": {},
   "outputs": [
    {
     "name": "stdout",
     "output_type": "stream",
     "text": [
      "O tamanho de 'texto' é 5.\n"
     ]
    }
   ],
   "source": [
    "\n",
    "    let s1 = String::from(\"texto\");\n",
    "\n",
    "    let tamanho = calcula_tamanho(&s1);\n",
    "\n",
    "    println!(\"O tamanho de '{}' é {}.\", s1, tamanho);\n",
    "\n",
    "\n",
    "fn calcula_tamanho(s: &String) -> usize {\n",
    "    s.len()\n",
    "}"
   ]
  },
  {
   "cell_type": "markdown",
   "id": "3bf99d40",
   "metadata": {},
   "source": [
    "exemplo de referencia chamada de função"
   ]
  },
  {
   "cell_type": "code",
   "execution_count": 4,
   "id": "00eb8754",
   "metadata": {},
   "outputs": [],
   "source": [
    "let s1 = String::from(\"texto\");\n",
    "\n",
    "let tamanho = calcula_tamanho(&s1);"
   ]
  },
  {
   "cell_type": "markdown",
   "id": "e01cf9d7",
   "metadata": {},
   "source": [
    "exemplo do uso de & para indicar que o tipo do parametro é referencia"
   ]
  },
  {
   "cell_type": "code",
   "execution_count": 5,
   "id": "acef5068",
   "metadata": {},
   "outputs": [],
   "source": [
    "fn calcula_tamanho(s: &String) -> usize { // s é uma referência para uma String\n",
    "    s.len()\n",
    "} // Aqui, s sai de escopo. Mas como ela não possui o valor a que se refere,\n",
    "  // nada acontece."
   ]
  },
  {
   "cell_type": "markdown",
   "id": "c343ab73",
   "metadata": {},
   "source": [
    "exemplo de erro ao tentar modificar um valor emprestado"
   ]
  },
  {
   "cell_type": "code",
   "execution_count": 6,
   "id": "6633a562",
   "metadata": {},
   "outputs": [
    {
     "ename": "Error",
     "evalue": "cannot borrow `*uma_string` as mutable, as it is behind a `&` reference",
     "output_type": "error",
     "traceback": [
      "\u001b[31m[E0596] Error:\u001b[0m cannot borrow `*uma_string` as mutable, as it is behind a `&` reference",
      "   \u001b[38;5;246m╭\u001b[0m\u001b[38;5;246m─\u001b[0m\u001b[38;5;246m[\u001b[0mcommand_6:1:1\u001b[38;5;246m]\u001b[0m",
      "   \u001b[38;5;246m│\u001b[0m",
      " \u001b[38;5;246m4 │\u001b[0m \u001b[38;5;249mf\u001b[0m\u001b[38;5;249mn\u001b[0m\u001b[38;5;249m \u001b[0m\u001b[38;5;249mm\u001b[0m\u001b[38;5;249mo\u001b[0m\u001b[38;5;249md\u001b[0m\u001b[38;5;249mi\u001b[0m\u001b[38;5;249mf\u001b[0m\u001b[38;5;249mi\u001b[0m\u001b[38;5;249mc\u001b[0m\u001b[38;5;249ma\u001b[0m\u001b[38;5;249m(\u001b[0m\u001b[38;5;249mu\u001b[0m\u001b[38;5;249mm\u001b[0m\u001b[38;5;249ma\u001b[0m\u001b[38;5;249m_\u001b[0m\u001b[38;5;249ms\u001b[0m\u001b[38;5;249mt\u001b[0m\u001b[38;5;249mr\u001b[0m\u001b[38;5;249mi\u001b[0m\u001b[38;5;249mn\u001b[0m\u001b[38;5;249mg\u001b[0m\u001b[38;5;249m:\u001b[0m\u001b[38;5;249m \u001b[0m\u001b[38;5;100m&\u001b[0m\u001b[38;5;100mS\u001b[0m\u001b[38;5;100mt\u001b[0m\u001b[38;5;100mr\u001b[0m\u001b[38;5;100mi\u001b[0m\u001b[38;5;100mn\u001b[0m\u001b[38;5;100mg\u001b[0m\u001b[38;5;249m)\u001b[0m\u001b[38;5;249m \u001b[0m\u001b[38;5;249m{\u001b[0m",
      " \u001b[38;5;246m  ·\u001b[0m                         \u001b[38;5;100m─\u001b[0m\u001b[38;5;100m─\u001b[0m\u001b[38;5;100m─\u001b[0m\u001b[38;5;100m┬\u001b[0m\u001b[38;5;100m─\u001b[0m\u001b[38;5;100m─\u001b[0m\u001b[38;5;100m─\u001b[0m  ",
      " \u001b[38;5;246m  ·\u001b[0m                            \u001b[38;5;100m╰\u001b[0m\u001b[38;5;100m─\u001b[0m\u001b[38;5;100m─\u001b[0m\u001b[38;5;100m─\u001b[0m\u001b[38;5;100m─\u001b[0m\u001b[38;5;100m─\u001b[0m help: consider changing this to be a mutable reference: `&mut String`",
      " \u001b[38;5;246m5 │\u001b[0m \u001b[38;5;249m \u001b[0m\u001b[38;5;249m \u001b[0m\u001b[38;5;249m \u001b[0m\u001b[38;5;249m \u001b[0m\u001b[38;5;54mu\u001b[0m\u001b[38;5;54mm\u001b[0m\u001b[38;5;54ma\u001b[0m\u001b[38;5;54m_\u001b[0m\u001b[38;5;54ms\u001b[0m\u001b[38;5;54mt\u001b[0m\u001b[38;5;54mr\u001b[0m\u001b[38;5;54mi\u001b[0m\u001b[38;5;54mn\u001b[0m\u001b[38;5;54mg\u001b[0m\u001b[38;5;54m.\u001b[0m\u001b[38;5;54mp\u001b[0m\u001b[38;5;54mu\u001b[0m\u001b[38;5;54ms\u001b[0m\u001b[38;5;54mh\u001b[0m\u001b[38;5;54m_\u001b[0m\u001b[38;5;54ms\u001b[0m\u001b[38;5;54mt\u001b[0m\u001b[38;5;54mr\u001b[0m\u001b[38;5;54m(\u001b[0m\u001b[38;5;54m\"\u001b[0m\u001b[38;5;54m \u001b[0m\u001b[38;5;54ml\u001b[0m\u001b[38;5;54mo\u001b[0m\u001b[38;5;54mn\u001b[0m\u001b[38;5;54mg\u001b[0m\u001b[38;5;54mo\u001b[0m\u001b[38;5;54m\"\u001b[0m\u001b[38;5;54m)\u001b[0m\u001b[38;5;249m;\u001b[0m",
      " \u001b[38;5;246m  ·\u001b[0m     \u001b[38;5;54m─\u001b[0m\u001b[38;5;54m─\u001b[0m\u001b[38;5;54m─\u001b[0m\u001b[38;5;54m─\u001b[0m\u001b[38;5;54m─\u001b[0m\u001b[38;5;54m─\u001b[0m\u001b[38;5;54m─\u001b[0m\u001b[38;5;54m─\u001b[0m\u001b[38;5;54m─\u001b[0m\u001b[38;5;54m─\u001b[0m\u001b[38;5;54m─\u001b[0m\u001b[38;5;54m─\u001b[0m\u001b[38;5;54m─\u001b[0m\u001b[38;5;54m─\u001b[0m\u001b[38;5;54m┬\u001b[0m\u001b[38;5;54m─\u001b[0m\u001b[38;5;54m─\u001b[0m\u001b[38;5;54m─\u001b[0m\u001b[38;5;54m─\u001b[0m\u001b[38;5;54m─\u001b[0m\u001b[38;5;54m─\u001b[0m\u001b[38;5;54m─\u001b[0m\u001b[38;5;54m─\u001b[0m\u001b[38;5;54m─\u001b[0m\u001b[38;5;54m─\u001b[0m\u001b[38;5;54m─\u001b[0m\u001b[38;5;54m─\u001b[0m\u001b[38;5;54m─\u001b[0m\u001b[38;5;54m─\u001b[0m  ",
      " \u001b[38;5;246m  ·\u001b[0m                   \u001b[38;5;54m╰\u001b[0m\u001b[38;5;54m─\u001b[0m\u001b[38;5;54m─\u001b[0m\u001b[38;5;54m─\u001b[0m\u001b[38;5;54m─\u001b[0m\u001b[38;5;54m─\u001b[0m\u001b[38;5;54m─\u001b[0m\u001b[38;5;54m─\u001b[0m\u001b[38;5;54m─\u001b[0m\u001b[38;5;54m─\u001b[0m\u001b[38;5;54m─\u001b[0m\u001b[38;5;54m─\u001b[0m\u001b[38;5;54m─\u001b[0m\u001b[38;5;54m─\u001b[0m\u001b[38;5;54m─\u001b[0m\u001b[38;5;54m─\u001b[0m\u001b[38;5;54m─\u001b[0m `uma_string` is a `&` reference, so the data it refers to cannot be borrowed as mutable",
      " \u001b[38;5;246m  ·\u001b[0m ",
      " \u001b[38;5;246m  ·\u001b[0m \u001b[38;5;115mNote\u001b[0m: You can change an existing variable to mutable like: `let mut x = x;`",
      "\u001b[38;5;246m───╯\u001b[0m"
     ]
    }
   ],
   "source": [
    " let s = String::from(\"texto\");\n",
    "\n",
    "    modifica(&s);\n",
    "fn modifica(uma_string: &String) {\n",
    "    uma_string.push_str(\" longo\");\n",
    "}"
   ]
  },
  {
   "cell_type": "markdown",
   "id": "3a761ce4",
   "metadata": {},
   "source": [
    "exemplo de referencia mutavel"
   ]
  },
  {
   "cell_type": "code",
   "execution_count": 7,
   "id": "14ac7629",
   "metadata": {},
   "outputs": [],
   "source": [
    "let mut s = String::from(\"texto\");\n",
    "\n",
    "    modifica(&mut s);\n",
    "\n",
    "\n",
    "fn modifica(uma_string: &mut String) {\n",
    "    uma_string.push_str(\" longo\");\n",
    "}"
   ]
  },
  {
   "cell_type": "markdown",
   "id": "3f390d92",
   "metadata": {},
   "source": [
    "exemplo de erro  por ter mais de uma referencia mutavel no mesmo escopo"
   ]
  },
  {
   "cell_type": "code",
   "execution_count": 8,
   "id": "326b40b9",
   "metadata": {},
   "outputs": [
    {
     "ename": "Error",
     "evalue": "The variable `r1` contains a reference with a non-static lifetime so\ncan't be persisted. You can prevent this error by making sure that the\nvariable goes out of scope - i.e. wrapping the code in {}.",
     "output_type": "error",
     "traceback": [
      "\u001b[31mError:\u001b[0m The variable `r1` contains a reference with a non-static lifetime so",
      "can't be persisted. You can prevent this error by making sure that the",
      "variable goes out of scope - i.e. wrapping the code in {}."
     ]
    },
    {
     "ename": "Error",
     "evalue": "cannot borrow `s` as mutable more than once at a time",
     "output_type": "error",
     "traceback": [
      "\u001b[31m[E0499] Error:\u001b[0m cannot borrow `s` as mutable more than once at a time",
      "   \u001b[38;5;246m╭\u001b[0m\u001b[38;5;246m─\u001b[0m\u001b[38;5;246m[\u001b[0mcommand_8:1:1\u001b[38;5;246m]\u001b[0m",
      "   \u001b[38;5;246m│\u001b[0m",
      " \u001b[38;5;246m3 │\u001b[0m \u001b[38;5;249ml\u001b[0m\u001b[38;5;249me\u001b[0m\u001b[38;5;249mt\u001b[0m\u001b[38;5;249m \u001b[0m\u001b[38;5;249mr\u001b[0m\u001b[38;5;249m1\u001b[0m\u001b[38;5;249m \u001b[0m\u001b[38;5;249m=\u001b[0m\u001b[38;5;249m \u001b[0m\u001b[38;5;54m&\u001b[0m\u001b[38;5;54mm\u001b[0m\u001b[38;5;54mu\u001b[0m\u001b[38;5;54mt\u001b[0m\u001b[38;5;54m \u001b[0m\u001b[38;5;54ms\u001b[0m\u001b[38;5;249m;\u001b[0m",
      " \u001b[38;5;246m  ·\u001b[0m          \u001b[38;5;54m─\u001b[0m\u001b[38;5;54m─\u001b[0m\u001b[38;5;54m─\u001b[0m\u001b[38;5;54m┬\u001b[0m\u001b[38;5;54m─\u001b[0m\u001b[38;5;54m─\u001b[0m  ",
      " \u001b[38;5;246m  ·\u001b[0m             \u001b[38;5;54m╰\u001b[0m\u001b[38;5;54m─\u001b[0m\u001b[38;5;54m─\u001b[0m\u001b[38;5;54m─\u001b[0m\u001b[38;5;54m─\u001b[0m first mutable borrow occurs here",
      " \u001b[38;5;246m4 │\u001b[0m \u001b[38;5;249ml\u001b[0m\u001b[38;5;249me\u001b[0m\u001b[38;5;249mt\u001b[0m\u001b[38;5;249m \u001b[0m\u001b[38;5;249mr\u001b[0m\u001b[38;5;249m2\u001b[0m\u001b[38;5;249m \u001b[0m\u001b[38;5;249m=\u001b[0m\u001b[38;5;249m \u001b[0m\u001b[38;5;100m&\u001b[0m\u001b[38;5;100mm\u001b[0m\u001b[38;5;100mu\u001b[0m\u001b[38;5;100mt\u001b[0m\u001b[38;5;100m \u001b[0m\u001b[38;5;100ms\u001b[0m\u001b[38;5;249m;\u001b[0m",
      " \u001b[38;5;246m  ·\u001b[0m          \u001b[38;5;100m─\u001b[0m\u001b[38;5;100m─\u001b[0m\u001b[38;5;100m─\u001b[0m\u001b[38;5;100m┬\u001b[0m\u001b[38;5;100m─\u001b[0m\u001b[38;5;100m─\u001b[0m  ",
      " \u001b[38;5;246m  ·\u001b[0m             \u001b[38;5;100m╰\u001b[0m\u001b[38;5;100m─\u001b[0m\u001b[38;5;100m─\u001b[0m\u001b[38;5;100m─\u001b[0m\u001b[38;5;100m─\u001b[0m second mutable borrow occurs here",
      "\u001b[38;5;246m───╯\u001b[0m"
     ]
    }
   ],
   "source": [
    "let mut s = String::from(\"texto\");\n",
    "\n",
    "let r1 = &mut s;\n",
    "let r2 = &mut s;\n",
    "\n",
    "println!(\"{}, {}\", r1, r2)"
   ]
  },
  {
   "cell_type": "markdown",
   "id": "a185e645",
   "metadata": {},
   "source": [
    "exemplo da correção do erro"
   ]
  },
  {
   "cell_type": "code",
   "execution_count": 9,
   "id": "146cac65",
   "metadata": {},
   "outputs": [
    {
     "ename": "Error",
     "evalue": "unused variable: `r1`",
     "output_type": "error",
     "traceback": [
      "    let r1 = &mut s;",
      "\u001b[91m        ^^\u001b[0m \u001b[94mwarning: unused variable: `r1`\u001b[0m",
      "unused variable: `r1`",
      "\u001b[1mhelp\u001b[0m: if this is intentional, prefix it with an underscore\n\n_r1"
     ]
    },
    {
     "ename": "Error",
     "evalue": "The variable `r2` contains a reference with a non-static lifetime so\ncan't be persisted. You can prevent this error by making sure that the\nvariable goes out of scope - i.e. wrapping the code in {}.",
     "output_type": "error",
     "traceback": [
      "let r2 = &mut s;",
      "let r2 = &mut s;",
      "\u001b[91m    ^^\u001b[0m \u001b[94m\u001b[0m",
      "The variable `r2` contains a reference with a non-static lifetime so\ncan't be persisted. You can prevent this error by making sure that the\nvariable goes out of scope - i.e. wrapping the code in {}."
     ]
    }
   ],
   "source": [
    "let mut s = String::from(\"texto\");\n",
    "\n",
    "{\n",
    "    let r1 = &mut s;\n",
    "\n",
    "} // aqui r1 sai de escopo, então já podemos criar uma nova referência sem\n",
    "  // problema nenhum.\n",
    "\n",
    "let r2 = &mut s;"
   ]
  },
  {
   "cell_type": "markdown",
   "id": "c67acd47",
   "metadata": {},
   "source": [
    "erro de referencia mutaveis e imutaveis misturadas"
   ]
  },
  {
   "cell_type": "code",
   "execution_count": 10,
   "id": "8bd45241",
   "metadata": {},
   "outputs": [
    {
     "ename": "Error",
     "evalue": "The variable `r1` contains a reference with a non-static lifetime so\ncan't be persisted. You can prevent this error by making sure that the\nvariable goes out of scope - i.e. wrapping the code in {}.",
     "output_type": "error",
     "traceback": [
      "let r1 = &s; // sem problema",
      "let r1 = &s; // sem problema",
      "\u001b[91m    ^^\u001b[0m \u001b[94m\u001b[0m",
      "The variable `r1` contains a reference with a non-static lifetime so\ncan't be persisted. You can prevent this error by making sure that the\nvariable goes out of scope - i.e. wrapping the code in {}."
     ]
    },
    {
     "ename": "Error",
     "evalue": "The variable `r2` contains a reference with a non-static lifetime so\ncan't be persisted. You can prevent this error by making sure that the\nvariable goes out of scope - i.e. wrapping the code in {}.",
     "output_type": "error",
     "traceback": [
      "let r2 = &s; // sem problema",
      "let r2 = &s; // sem problema",
      "\u001b[91m    ^^\u001b[0m \u001b[94m\u001b[0m",
      "The variable `r2` contains a reference with a non-static lifetime so\ncan't be persisted. You can prevent this error by making sure that the\nvariable goes out of scope - i.e. wrapping the code in {}."
     ]
    },
    {
     "ename": "Error",
     "evalue": "cannot borrow `s` as mutable because it is also borrowed as immutable",
     "output_type": "error",
     "traceback": [
      "let r3 = &mut s; // sem problema",
      "\u001b[91m         ^^^^^^\u001b[0m \u001b[94mmutable borrow occurs here\u001b[0m",
      "let r1 = &s; // sem problema",
      "\u001b[91m         ^^\u001b[0m \u001b[94mimmutable borrow occurs here\u001b[0m",
      "cannot borrow `s` as mutable because it is also borrowed as immutable"
     ]
    }
   ],
   "source": [
    "let mut s = String::from(\"texto\");\n",
    "\n",
    "let r1 = &s; // sem problema\n",
    "let r2 = &s; // sem problema\n",
    "println!(\"{} and {}\", r1, r2);\n",
    "// r1 e r2 não serão mais utilizadas a partir deste ponto\n",
    "\n",
    "let r3 = &mut s; // sem problema\n",
    "println!(\"{}\", r3);"
   ]
  },
  {
   "cell_type": "markdown",
   "id": "32457223",
   "metadata": {},
   "source": [
    "exemplo de referencia soltas onde ha erro em tempo de compilação"
   ]
  },
  {
   "cell_type": "code",
   "execution_count": 11,
   "id": "678488bf",
   "metadata": {},
   "outputs": [
    {
     "ename": "Error",
     "evalue": "missing lifetime specifier",
     "output_type": "error",
     "traceback": [
      "\u001b[31m[E0106] Error:\u001b[0m missing lifetime specifier",
      "   \u001b[38;5;246m╭\u001b[0m\u001b[38;5;246m─\u001b[0m\u001b[38;5;246m[\u001b[0mcommand_11:1:1\u001b[38;5;246m]\u001b[0m",
      "   \u001b[38;5;246m│\u001b[0m",
      " \u001b[38;5;246m2 │\u001b[0m \u001b[38;5;249mf\u001b[0m\u001b[38;5;249mn\u001b[0m\u001b[38;5;249m \u001b[0m\u001b[38;5;249ms\u001b[0m\u001b[38;5;249mo\u001b[0m\u001b[38;5;249ml\u001b[0m\u001b[38;5;249mt\u001b[0m\u001b[38;5;249ma\u001b[0m\u001b[38;5;249mr\u001b[0m\u001b[38;5;249m(\u001b[0m\u001b[38;5;249m)\u001b[0m\u001b[38;5;249m \u001b[0m\u001b[38;5;249m-\u001b[0m\u001b[38;5;249m>\u001b[0m\u001b[38;5;249m \u001b[0m\u001b[38;5;54m&\u001b[0m\u001b[38;5;249mS\u001b[0m\u001b[38;5;249mt\u001b[0m\u001b[38;5;249mr\u001b[0m\u001b[38;5;249mi\u001b[0m\u001b[38;5;249mn\u001b[0m\u001b[38;5;249mg\u001b[0m\u001b[38;5;249m \u001b[0m\u001b[38;5;249m{\u001b[0m",
      " \u001b[38;5;246m  ·\u001b[0m                \u001b[38;5;54m┬\u001b[0m\u001b[38;5;100m│\u001b[0m ",
      " \u001b[38;5;246m  ·\u001b[0m                \u001b[38;5;54m╰\u001b[0m\u001b[38;5;54m─\u001b[0m\u001b[38;5;54m─\u001b[0m expected named lifetime parameter",
      " \u001b[38;5;246m  ·\u001b[0m                 \u001b[38;5;100m│\u001b[0m ",
      " \u001b[38;5;246m  ·\u001b[0m                 \u001b[38;5;100m╰\u001b[0m\u001b[38;5;100m─\u001b[0m help: consider using the `'static` lifetime: `'static `",
      "\u001b[38;5;246m───╯\u001b[0m"
     ]
    }
   ],
   "source": [
    " let referencia_para_o_nada = soltar();\n",
    "fn soltar() -> &String {\n",
    "    let s = String::from(\"texto\");\n",
    "\n",
    "    &s\n",
    "}"
   ]
  },
  {
   "cell_type": "code",
   "execution_count": 12,
   "id": "8364e3cd",
   "metadata": {},
   "outputs": [
    {
     "ename": "Error",
     "evalue": "missing lifetime specifier",
     "output_type": "error",
     "traceback": [
      "fn soltar() -> &String { // soltar retorna uma referência a uma String",
      "\u001b[91m               ^\u001b[0m \u001b[94mexpected named lifetime parameter\u001b[0m",
      "missing lifetime specifier",
      "\u001b[1mhelp\u001b[0m: this function's return type contains a borrowed value, but there is no value for it to be borrowed from",
      "\u001b[1mhelp\u001b[0m: consider using the `'static` lifetime\n\n'static"
     ]
    }
   ],
   "source": [
    "fn soltar() -> &String { // soltar retorna uma referência a uma String\n",
    "\n",
    "    let s = String::from(\"texto\"); // s é uma nova String\n",
    "\n",
    "    &s // retornamos uma referência a uma String, s\n",
    "} // Aqui, s sai de escopo e é destruída. Sua memória é devolvida.\n",
    "  // Perigo!"
   ]
  },
  {
   "cell_type": "markdown",
   "id": "16af93bd",
   "metadata": {},
   "source": [
    " exemplo de solução do erro"
   ]
  },
  {
   "cell_type": "code",
   "execution_count": 3,
   "id": "f9e17c09",
   "metadata": {},
   "outputs": [],
   "source": [
    "fn nao_soltar() -> String {\n",
    "    let s = String::from(\"texto\");\n",
    "\n",
    "    s\n",
    "}"
   ]
  },
  {
   "cell_type": "code",
   "execution_count": null,
   "id": "d84a8d72",
   "metadata": {},
   "outputs": [],
   "source": []
  }
 ],
 "metadata": {
  "kernelspec": {
   "display_name": "Rust",
   "language": "rust",
   "name": "rust"
  },
  "language_info": {
   "codemirror_mode": "rust",
   "file_extension": ".rs",
   "mimetype": "text/rust",
   "name": "Rust",
   "pygment_lexer": "rust",
   "version": ""
  }
 },
 "nbformat": 4,
 "nbformat_minor": 5
}
