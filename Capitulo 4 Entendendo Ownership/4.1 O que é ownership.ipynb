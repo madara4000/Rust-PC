{
 "cells": [
  {
   "cell_type": "markdown",
   "id": "298a8b51",
   "metadata": {},
   "source": [
    "escopo de uma variavel  de uma string literal fixa no codigo"
   ]
  },
  {
   "cell_type": "code",
   "execution_count": 3,
   "id": "3f712232",
   "metadata": {},
   "outputs": [],
   "source": [
    "let s = \"olá\";"
   ]
  },
  {
   "cell_type": "markdown",
   "id": "fddee35f",
   "metadata": {},
   "source": [
    "exemplo com comentarios"
   ]
  },
  {
   "cell_type": "code",
   "execution_count": 4,
   "id": "8f932df0",
   "metadata": {},
   "outputs": [
    {
     "data": {
      "text/plain": [
       "()"
      ]
     },
     "execution_count": 4,
     "metadata": {},
     "output_type": "execute_result"
    }
   ],
   "source": [
    "{                      // s não é válida aqui, ainda não está declarada\n",
    "    let s = \"texto\";   // s é válida deste ponto em diante\n",
    "\n",
    "    // faz alguma coisa com s\n",
    "}                      // agora este escopo terminou, e s não é mais válida\n"
   ]
  },
  {
   "cell_type": "markdown",
   "id": "696825de",
   "metadata": {},
   "source": [
    "exemplo do tipo string em rust"
   ]
  },
  {
   "cell_type": "code",
   "execution_count": 5,
   "id": "74d38c74",
   "metadata": {},
   "outputs": [
    {
     "name": "stdout",
     "output_type": "stream",
     "text": [
      "olá, mundo!\n"
     ]
    }
   ],
   "source": [
    "let mut s = String::from(\"olá\");\n",
    "\n",
    "s.push_str(\", mundo!\"); // push_str() adiciona um literal à String\n",
    "\n",
    "println!(\"{}\", s); // Isso vai exibir `olá, mundo!`"
   ]
  },
  {
   "cell_type": "markdown",
   "id": "ca0bcfc2",
   "metadata": {},
   "source": [
    "exemplo com string ao inves de string literal"
   ]
  },
  {
   "cell_type": "code",
   "execution_count": 6,
   "id": "fcedf28c",
   "metadata": {},
   "outputs": [],
   "source": [
    "{\n",
    "    let s = String::from(\"texto\"); // s é válida deste ponto em diante\n",
    "\n",
    "    // faz alguma coisa com s\n",
    "}                                  // agora este escopo terminou, e s não é\n",
    "                                   // mais válida"
   ]
  },
  {
   "cell_type": "markdown",
   "id": "93c25868",
   "metadata": {},
   "source": [
    "exemplo de interação entre variaveis do mesmo tipo"
   ]
  },
  {
   "cell_type": "code",
   "execution_count": 7,
   "id": "e9e26300",
   "metadata": {},
   "outputs": [],
   "source": [
    "let x = 5;\n",
    "let y = x;"
   ]
  },
  {
   "cell_type": "markdown",
   "id": "73e1ffbf",
   "metadata": {},
   "source": [
    "agora com string"
   ]
  },
  {
   "cell_type": "code",
   "execution_count": 8,
   "id": "b666d3f8",
   "metadata": {},
   "outputs": [],
   "source": [
    "let s1 = String::from(\"texto\");\n",
    "let s2 = s1;"
   ]
  },
  {
   "cell_type": "markdown",
   "id": "acd4a4e4",
   "metadata": {},
   "source": [
    "exemplo de erro onde o valor na primeira variavel foi movida pra segunda"
   ]
  },
  {
   "cell_type": "code",
   "execution_count": 9,
   "id": "7273b028",
   "metadata": {},
   "outputs": [
    {
     "ename": "Error",
     "evalue": "borrow of moved value: `s1`",
     "output_type": "error",
     "traceback": [
      "\u001b[31m[E0382] Error:\u001b[0m borrow of moved value: `s1`",
      "   \u001b[38;5;246m╭\u001b[0m\u001b[38;5;246m─\u001b[0m\u001b[38;5;246m[\u001b[0mcommand_9:1:1\u001b[38;5;246m]\u001b[0m",
      "   \u001b[38;5;246m│\u001b[0m",
      " \u001b[38;5;246m1 │\u001b[0m \u001b[38;5;249ml\u001b[0m\u001b[38;5;249me\u001b[0m\u001b[38;5;249mt\u001b[0m\u001b[38;5;249m \u001b[0m\u001b[38;5;68ms\u001b[0m\u001b[38;5;68m1\u001b[0m\u001b[38;5;249m \u001b[0m\u001b[38;5;249m=\u001b[0m\u001b[38;5;249m \u001b[0m\u001b[38;5;249mS\u001b[0m\u001b[38;5;249mt\u001b[0m\u001b[38;5;249mr\u001b[0m\u001b[38;5;249mi\u001b[0m\u001b[38;5;249mn\u001b[0m\u001b[38;5;249mg\u001b[0m\u001b[38;5;249m:\u001b[0m\u001b[38;5;249m:\u001b[0m\u001b[38;5;249mf\u001b[0m\u001b[38;5;249mr\u001b[0m\u001b[38;5;249mo\u001b[0m\u001b[38;5;249mm\u001b[0m\u001b[38;5;249m(\u001b[0m\u001b[38;5;249m\"\u001b[0m\u001b[38;5;249mt\u001b[0m\u001b[38;5;249me\u001b[0m\u001b[38;5;249mx\u001b[0m\u001b[38;5;249mt\u001b[0m\u001b[38;5;249mo\u001b[0m\u001b[38;5;249m\"\u001b[0m\u001b[38;5;249m)\u001b[0m\u001b[38;5;249m;\u001b[0m",
      " \u001b[38;5;246m  ·\u001b[0m     \u001b[38;5;68m─\u001b[0m\u001b[38;5;68m┬\u001b[0m  ",
      " \u001b[38;5;246m  ·\u001b[0m      \u001b[38;5;68m╰\u001b[0m\u001b[38;5;68m─\u001b[0m\u001b[38;5;68m─\u001b[0m move occurs because `s1` has type `String`, which does not implement the `Copy` trait",
      " \u001b[38;5;246m2 │\u001b[0m \u001b[38;5;249ml\u001b[0m\u001b[38;5;249me\u001b[0m\u001b[38;5;249mt\u001b[0m\u001b[38;5;249m \u001b[0m\u001b[38;5;249ms\u001b[0m\u001b[38;5;249m2\u001b[0m\u001b[38;5;249m \u001b[0m\u001b[38;5;249m=\u001b[0m\u001b[38;5;249m \u001b[0m\u001b[38;5;54ms\u001b[0m\u001b[38;5;54m1\u001b[0m\u001b[38;5;249m;\u001b[0m",
      " \u001b[38;5;246m  ·\u001b[0m          \u001b[38;5;54m─\u001b[0m\u001b[38;5;54m┬\u001b[0m\u001b[38;5;37m│\u001b[0m ",
      " \u001b[38;5;246m  ·\u001b[0m           \u001b[38;5;54m╰\u001b[0m\u001b[38;5;54m─\u001b[0m\u001b[38;5;54m─\u001b[0m value moved here",
      " \u001b[38;5;246m  ·\u001b[0m            \u001b[38;5;37m│\u001b[0m ",
      " \u001b[38;5;246m  ·\u001b[0m            \u001b[38;5;37m╰\u001b[0m\u001b[38;5;37m─\u001b[0m help: consider cloning the value if the performance cost is acceptable: `.clone()`",
      " \u001b[38;5;246m  ·\u001b[0m ",
      " \u001b[38;5;246m4 │\u001b[0m \u001b[38;5;249mp\u001b[0m\u001b[38;5;249mr\u001b[0m\u001b[38;5;249mi\u001b[0m\u001b[38;5;249mn\u001b[0m\u001b[38;5;249mt\u001b[0m\u001b[38;5;249ml\u001b[0m\u001b[38;5;249mn\u001b[0m\u001b[38;5;249m!\u001b[0m\u001b[38;5;249m(\u001b[0m\u001b[38;5;249m\"\u001b[0m\u001b[38;5;249m{\u001b[0m\u001b[38;5;249m}\u001b[0m\u001b[38;5;249m\"\u001b[0m\u001b[38;5;249m,\u001b[0m\u001b[38;5;249m \u001b[0m\u001b[38;5;100ms\u001b[0m\u001b[38;5;100m1\u001b[0m\u001b[38;5;249m)\u001b[0m\u001b[38;5;249m;\u001b[0m",
      " \u001b[38;5;246m  ·\u001b[0m                \u001b[38;5;100m─\u001b[0m\u001b[38;5;100m┬\u001b[0m  ",
      " \u001b[38;5;246m  ·\u001b[0m                 \u001b[38;5;100m╰\u001b[0m\u001b[38;5;100m─\u001b[0m\u001b[38;5;100m─\u001b[0m value borrowed here after move",
      "\u001b[38;5;246m───╯\u001b[0m"
     ]
    }
   ],
   "source": [
    "let s1 = String::from(\"texto\");\n",
    "let s2 = s1;\n",
    "\n",
    "println!(\"{}\", s1);"
   ]
  },
  {
   "cell_type": "markdown",
   "id": "0ed7be0a",
   "metadata": {},
   "source": [
    "exemplo da correção do erro"
   ]
  },
  {
   "cell_type": "code",
   "execution_count": 10,
   "id": "896dd3e3",
   "metadata": {},
   "outputs": [
    {
     "name": "stdout",
     "output_type": "stream",
     "text": [
      "s1 = texto, s2 = texto\n"
     ]
    }
   ],
   "source": [
    "let s1 = String::from(\"texto\");\n",
    "let s2 = s1.clone();\n",
    "\n",
    "println!(\"s1 = {}, s2 = {}\", s1, s2);"
   ]
  },
  {
   "cell_type": "markdown",
   "id": "3159a05a",
   "metadata": {},
   "source": [
    "exemplo com inteiros"
   ]
  },
  {
   "cell_type": "code",
   "execution_count": 11,
   "id": "cdc9ca3b",
   "metadata": {},
   "outputs": [
    {
     "name": "stdout",
     "output_type": "stream",
     "text": [
      "x = 5, y = 5\n"
     ]
    }
   ],
   "source": [
    "let x = 5;\n",
    "let y = x;\n",
    "\n",
    "println!(\"x = {}, y = {}\", x, y);"
   ]
  },
  {
   "cell_type": "markdown",
   "id": "4030be55",
   "metadata": {},
   "source": [
    "exemplo de ownership e funções"
   ]
  },
  {
   "cell_type": "code",
   "execution_count": 12,
   "id": "cbdad306",
   "metadata": {},
   "outputs": [
    {
     "name": "stdout",
     "output_type": "stream",
     "text": [
      "texto\n",
      "5\n"
     ]
    }
   ],
   "source": [
    " let s = String::from(\"texto\");  // s entra em escopo.\n",
    "\n",
    "    toma_posse(s);                  // move o valor de s para dentro da função...\n",
    "                                    // ... e ele não é mais válido aqui.\n",
    "\n",
    "    let x = 5;                      // x entra em escopo.\n",
    "\n",
    "    faz_uma_copia(x);               // x seria movido para dentro da função,\n",
    "                                    // mas i32 é Copy, então está tudo bem em\n",
    "                                    // usar x daqui para a frente.\n",
    "\n",
    "\n",
    "// Aqui, x sai de escopo, e depois s. Mas como o valor de s foi movido, nada\n",
    "  // de especial acontece.\n",
    "\n",
    "fn toma_posse(uma_string: String) { // uma_string entra em escopo.\n",
    "    println!(\"{}\", uma_string);\n",
    "} // Aqui, uma_string sai de escopo, e o método `drop` é chamado. A memória que\n",
    "  // guarda seus dados é liberada.\n",
    "\n",
    "fn faz_uma_copia(um_inteiro: i32) { // um_inteiro entra em escopo.\n",
    "    println!(\"{}\", um_inteiro);\n",
    "} // Aqui, um_inteiro sai de escopo. Nada de especial acontece."
   ]
  },
  {
   "cell_type": "markdown",
   "id": "843a089a",
   "metadata": {},
   "source": [
    "exemplo  de retoprno de valores e Escopo"
   ]
  },
  {
   "cell_type": "code",
   "execution_count": 13,
   "id": "8aaa0f94",
   "metadata": {},
   "outputs": [],
   "source": [
    "\n",
    "let s1 = entrega_valor();           // entrega_valor move o valor retornado\n",
    "                                        // para s1.\n",
    "\n",
    "    let s2 = String::from(\"texto\");     // s2 entra em escopo.\n",
    "\n",
    "    let s3 = pega_e_entrega_valor(s2);  // s2 é movido para dentro da função\n",
    "                                        // pega_e_entrega_valor, que também\n",
    "                                        // move o valor retornado para s3.\n",
    " // Aqui, s3 sai de escopo e é destruída. s2 sai de escopo, mas já foi movida,\n",
    "  // então nada demais acontece. s1 sai de escopo e é destruída.\n",
    "\n",
    "fn entrega_valor() -> String {               // entrega_valor move o valor\n",
    "                                             // retornado para dentro da função\n",
    "                                             // que a chamou.\n",
    "\n",
    "    let uma_string = String::from(\"olá\");    // uma_string entra em escopo.\n",
    "\n",
    "    uma_string                               // uma_string é retornada e movida\n",
    "                                             // para a função que chamou\n",
    "                                             // entrega_valor.\n",
    "}\n",
    "\n",
    "// pega_e_entrega_valor vai pegar uma String e retorná-la.\n",
    "fn pega_e_entrega_valor(uma_string: String) -> String { // uma_string entra em\n",
    "                                                        // escopo.\n",
    "\n",
    "    uma_string  // uma_string é retornada e movida para a função que chamou\n",
    "                // pega_e_entrega_valor.\n",
    "}"
   ]
  },
  {
   "cell_type": "markdown",
   "id": "335c4c92",
   "metadata": {},
   "source": [
    "exemplo de retorno de multiplos valores usando tupla"
   ]
  },
  {
   "cell_type": "code",
   "execution_count": 14,
   "id": "bafd8f48",
   "metadata": {},
   "outputs": [
    {
     "name": "stdout",
     "output_type": "stream",
     "text": [
      "O tamanho de 'texto' é 5.\n"
     ]
    }
   ],
   "source": [
    " let s1 = String::from(\"texto\");\n",
    "\n",
    "    let (s2, tamanho) = calcula_tamanho(s1);\n",
    "\n",
    "    println!(\"O tamanho de '{}' é {}.\", s2, tamanho);\n",
    "\n",
    "\n",
    "fn calcula_tamanho(s: String) -> (String, usize) {\n",
    "    let tamanho = s.len(); // len() retorna o tamanho de uma String.\n",
    "\n",
    "    (s, tamanho)\n",
    "}"
   ]
  },
  {
   "cell_type": "code",
   "execution_count": null,
   "id": "e2858a03",
   "metadata": {},
   "outputs": [],
   "source": []
  }
 ],
 "metadata": {
  "kernelspec": {
   "display_name": "Rust",
   "language": "rust",
   "name": "rust"
  },
  "language_info": {
   "codemirror_mode": "rust",
   "file_extension": ".rs",
   "mimetype": "text/rust",
   "name": "Rust",
   "pygment_lexer": "rust",
   "version": ""
  }
 },
 "nbformat": 4,
 "nbformat_minor": 5
}
